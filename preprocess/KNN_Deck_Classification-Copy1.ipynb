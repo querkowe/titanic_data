{
 "cells": [
  {
   "cell_type": "markdown",
   "id": "ed3004a6",
   "metadata": {},
   "source": [
    "### 모델 선택 배경"
   ]
  },
  {
   "cell_type": "markdown",
   "id": "a6a290c6",
   "metadata": {},
   "source": [
    "- 일단 Oversampling 한 결과가 하지 않은 것보다 Accuracy에서 확연한 우위(20% 가량)를 보였다\n",
    "- 조금이라도 퍼센트가 높아진 "
   ]
  },
  {
   "cell_type": "markdown",
   "id": "f97a3d99",
   "metadata": {},
   "source": [
    "### Import"
   ]
  },
  {
   "cell_type": "code",
   "execution_count": 1,
   "id": "1ce8c579",
   "metadata": {},
   "outputs": [],
   "source": [
    "import warnings\n",
    "warnings.filterwarnings(\"ignore\")\n",
    "\n",
    "import pandas as pd\n",
    "import numpy as np\n",
    "import matplotlib.pyplot as plt\n",
    "\n",
    "from sklearn.preprocessing import OneHotEncoder, LabelEncoder, RobustScaler\n",
    "from sklearn.compose import ColumnTransformer\n",
    "from sklearn.pipeline import Pipeline\n",
    "from sklearn.model_selection import train_test_split\n",
    "from sklearn.neighbors import KNeighborsClassifier\n",
    "\n",
    "from collections import Counter\n",
    "\n",
    "from imblearn.over_sampling import SMOTE"
   ]
  },
  {
   "cell_type": "markdown",
   "id": "417f9537",
   "metadata": {},
   "source": [
    "### 데이터 준비"
   ]
  },
  {
   "cell_type": "code",
   "execution_count": 2,
   "id": "5643d1b3",
   "metadata": {},
   "outputs": [],
   "source": [
    "data_df = pd.read_csv('../titanic.csv')\n",
    "\n",
    "feature_cols = ['Pclass', 'SibSp', 'Parch', 'Fare', 'Embarked']\n",
    "target_col = 'Cabin'"
   ]
  },
  {
   "cell_type": "code",
   "execution_count": 3,
   "id": "ea74f34c",
   "metadata": {},
   "outputs": [],
   "source": [
    "cabin_cap = data_df[target_col].dropna().apply(lambda x : x[0])\n",
    "\n",
    "t_deck_index = cabin_cap[cabin_cap == 'T'].index[0]\n",
    "\n",
    "del cabin_cap[t_deck_index]"
   ]
  },
  {
   "cell_type": "code",
   "execution_count": 4,
   "id": "5ccaf07c",
   "metadata": {},
   "outputs": [],
   "source": [
    "deck_X = data_df.loc[list(data_df['Cabin'].dropna().index)][feature_cols]\n",
    "\n",
    "deck_X = np.array(deck_X.drop(t_deck_index))"
   ]
  },
  {
   "cell_type": "code",
   "execution_count": 5,
   "id": "e23ca946",
   "metadata": {},
   "outputs": [
    {
     "data": {
      "text/plain": [
       "LabelEncoder()"
      ]
     },
     "execution_count": 5,
     "metadata": {},
     "output_type": "execute_result"
    }
   ],
   "source": [
    "deck_label_encoder = LabelEncoder()\n",
    "\n",
    "deck_label_encoder.fit(list(Counter(cabin_cap).keys()))"
   ]
  },
  {
   "cell_type": "code",
   "execution_count": 6,
   "id": "9095d703",
   "metadata": {},
   "outputs": [],
   "source": [
    "class_list = list(deck_label_encoder.classes_)\n",
    "list.insert(class_list, 0, '0')\n",
    "class_list.append('T')\n",
    "deck_label_encoder.classes_ = np.array(class_list)"
   ]
  },
  {
   "cell_type": "code",
   "execution_count": 7,
   "id": "496d48ec",
   "metadata": {},
   "outputs": [],
   "source": [
    "deck_data = deck_label_encoder.transform(cabin_cap)"
   ]
  },
  {
   "cell_type": "markdown",
   "id": "d90d7757",
   "metadata": {},
   "source": [
    "### Train / Test Split"
   ]
  },
  {
   "cell_type": "code",
   "execution_count": 8,
   "id": "28720eba",
   "metadata": {},
   "outputs": [],
   "source": [
    "X_train, X_test, y_train, y_test = train_test_split(deck_X, deck_data, test_size=0.2, random_state=2, stratify=deck_data)"
   ]
  },
  {
   "cell_type": "markdown",
   "id": "890ea37e",
   "metadata": {},
   "source": [
    "### Pipeline Preprocess"
   ]
  },
  {
   "cell_type": "code",
   "execution_count": 9,
   "id": "3133d379",
   "metadata": {},
   "outputs": [],
   "source": [
    "numeric_features = ['SibSp', 'Parch', 'Fare']\n",
    "numeric_transformer = RobustScaler() # StandardScaler()\n",
    "\n",
    "categorical_features = ['Pclass', 'Embarked']\n",
    "categorical_transformer = OneHotEncoder(categories='auto', handle_unknown='ignore') \n",
    "\n",
    "preprocessor = ColumnTransformer(\n",
    "    transformers=[ # List of (name, transformer, column(s))\n",
    "        ('num', numeric_transformer, numeric_features),\n",
    "        ('cat', categorical_transformer, categorical_features)])"
   ]
  },
  {
   "cell_type": "code",
   "execution_count": 10,
   "id": "0a156a36",
   "metadata": {},
   "outputs": [],
   "source": [
    "preprocessor_pipe = Pipeline(steps=[('preprocessor', preprocessor)])\n",
    "\n",
    "preprocessor_pipe.fit(pd.DataFrame(X_train, columns=feature_cols))\n",
    "\n",
    "X_train_transformed = preprocessor_pipe.transform(pd.DataFrame(X_train, columns=feature_cols))\n",
    "X_test_transformed = preprocessor_pipe.transform(pd.DataFrame(X_test, columns=feature_cols))"
   ]
  },
  {
   "cell_type": "markdown",
   "id": "9d8f9bfd",
   "metadata": {},
   "source": [
    "### Oversampling"
   ]
  },
  {
   "cell_type": "code",
   "execution_count": 11,
   "id": "474ddb6a",
   "metadata": {},
   "outputs": [],
   "source": [
    "smote = SMOTE(k_neighbors=1)\n",
    "\n",
    "X_train_over, y_train_over = smote.fit_sample(X_train_transformed, y_train)"
   ]
  },
  {
   "cell_type": "markdown",
   "id": "ea29fe34",
   "metadata": {},
   "source": [
    "### 모델 객체 생성 & 학습 & 테스트"
   ]
  },
  {
   "cell_type": "code",
   "execution_count": 12,
   "id": "66f5d1cf",
   "metadata": {},
   "outputs": [
    {
     "data": {
      "text/plain": [
       "0.6829268292682927"
      ]
     },
     "execution_count": 12,
     "metadata": {},
     "output_type": "execute_result"
    }
   ],
   "source": [
    "deck_model = KNeighborsClassifier(1).fit(X_train_over, y_train_over)\n",
    "deck_model = deck_model.fit(X_train_transformed, y_train)\n",
    "\n",
    "deck_model.score(X_test_transformed, y_test)"
   ]
  },
  {
   "cell_type": "markdown",
   "id": "b298aa07",
   "metadata": {},
   "source": [
    "### 예측"
   ]
  },
  {
   "cell_type": "code",
   "execution_count": 13,
   "id": "c1386e20",
   "metadata": {},
   "outputs": [
    {
     "name": "stderr",
     "output_type": "stream",
     "text": [
      "891it [00:02, 304.49it/s]\n"
     ]
    }
   ],
   "source": [
    "from tqdm import tqdm\n",
    "\n",
    "deck_list = []\n",
    "\n",
    "for row in tqdm(data_df.itertuples()):\n",
    "    if(pd.isna(row.Cabin)):\n",
    "        exec(f'tmp_X_data = np.array([row.{\", row.\".join(feature_cols)}])')\n",
    "        tmp_X_data = pd.DataFrame([tmp_X_data], columns=feature_cols)\n",
    "        tmp_X_data = preprocessor_pipe.transform(tmp_X_data)\n",
    "        deck_list.append(deck_model.predict(tmp_X_data))\n",
    "    else:\n",
    "        deck_val = deck_label_encoder.transform([row.Cabin[0]])\n",
    "        deck_list.append(deck_val)\n",
    "        \n",
    "        \n",
    "# len(deck_list)"
   ]
  },
  {
   "cell_type": "code",
   "execution_count": 14,
   "id": "ac4d78ca",
   "metadata": {},
   "outputs": [
    {
     "data": {
      "text/html": [
       "<div>\n",
       "<style scoped>\n",
       "    .dataframe tbody tr th:only-of-type {\n",
       "        vertical-align: middle;\n",
       "    }\n",
       "\n",
       "    .dataframe tbody tr th {\n",
       "        vertical-align: top;\n",
       "    }\n",
       "\n",
       "    .dataframe thead th {\n",
       "        text-align: right;\n",
       "    }\n",
       "</style>\n",
       "<table border=\"1\" class=\"dataframe\">\n",
       "  <thead>\n",
       "    <tr style=\"text-align: right;\">\n",
       "      <th></th>\n",
       "      <th>deck</th>\n",
       "    </tr>\n",
       "  </thead>\n",
       "  <tbody>\n",
       "    <tr>\n",
       "      <th>0</th>\n",
       "      <td>3</td>\n",
       "    </tr>\n",
       "    <tr>\n",
       "      <th>1</th>\n",
       "      <td>3</td>\n",
       "    </tr>\n",
       "    <tr>\n",
       "      <th>2</th>\n",
       "      <td>6</td>\n",
       "    </tr>\n",
       "    <tr>\n",
       "      <th>3</th>\n",
       "      <td>3</td>\n",
       "    </tr>\n",
       "    <tr>\n",
       "      <th>4</th>\n",
       "      <td>6</td>\n",
       "    </tr>\n",
       "    <tr>\n",
       "      <th>...</th>\n",
       "      <td>...</td>\n",
       "    </tr>\n",
       "    <tr>\n",
       "      <th>886</th>\n",
       "      <td>4</td>\n",
       "    </tr>\n",
       "    <tr>\n",
       "      <th>887</th>\n",
       "      <td>2</td>\n",
       "    </tr>\n",
       "    <tr>\n",
       "      <th>888</th>\n",
       "      <td>6</td>\n",
       "    </tr>\n",
       "    <tr>\n",
       "      <th>889</th>\n",
       "      <td>3</td>\n",
       "    </tr>\n",
       "    <tr>\n",
       "      <th>890</th>\n",
       "      <td>6</td>\n",
       "    </tr>\n",
       "  </tbody>\n",
       "</table>\n",
       "<p>891 rows × 1 columns</p>\n",
       "</div>"
      ],
      "text/plain": [
       "     deck\n",
       "0       3\n",
       "1       3\n",
       "2       6\n",
       "3       3\n",
       "4       6\n",
       "..    ...\n",
       "886     4\n",
       "887     2\n",
       "888     6\n",
       "889     3\n",
       "890     6\n",
       "\n",
       "[891 rows x 1 columns]"
      ]
     },
     "execution_count": 14,
     "metadata": {},
     "output_type": "execute_result"
    }
   ],
   "source": [
    "deck_df = pd.DataFrame(deck_list, columns=['deck'])\n",
    "deck_df"
   ]
  },
  {
   "cell_type": "code",
   "execution_count": 15,
   "id": "c749228c",
   "metadata": {},
   "outputs": [],
   "source": [
    "deck_df.to_pickle('../deck_df.pkl')"
   ]
  }
 ],
 "metadata": {
  "kernelspec": {
   "display_name": "Python 3",
   "language": "python",
   "name": "python3"
  },
  "language_info": {
   "codemirror_mode": {
    "name": "ipython",
    "version": 3
   },
   "file_extension": ".py",
   "mimetype": "text/x-python",
   "name": "python",
   "nbconvert_exporter": "python",
   "pygments_lexer": "ipython3",
   "version": "3.8.8"
  }
 },
 "nbformat": 4,
 "nbformat_minor": 5
}
