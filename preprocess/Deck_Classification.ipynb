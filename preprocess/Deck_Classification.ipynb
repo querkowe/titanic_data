{
 "cells": [
  {
   "cell_type": "code",
   "execution_count": 1,
   "id": "f7819862",
   "metadata": {},
   "outputs": [],
   "source": [
    "import warnings\n",
    "warnings.filterwarnings(\"ignore\")\n",
    "\n",
    "import pandas as pd\n",
    "import numpy as np\n",
    "import matplotlib.pyplot as plt"
   ]
  },
  {
   "cell_type": "code",
   "execution_count": 2,
   "id": "e19432c7",
   "metadata": {},
   "outputs": [],
   "source": [
    "data_df = pd.read_csv('../titanic.csv')"
   ]
  },
  {
   "cell_type": "code",
   "execution_count": 3,
   "id": "db061360",
   "metadata": {},
   "outputs": [
    {
     "data": {
      "text/html": [
       "<div>\n",
       "<style scoped>\n",
       "    .dataframe tbody tr th:only-of-type {\n",
       "        vertical-align: middle;\n",
       "    }\n",
       "\n",
       "    .dataframe tbody tr th {\n",
       "        vertical-align: top;\n",
       "    }\n",
       "\n",
       "    .dataframe thead th {\n",
       "        text-align: right;\n",
       "    }\n",
       "</style>\n",
       "<table border=\"1\" class=\"dataframe\">\n",
       "  <thead>\n",
       "    <tr style=\"text-align: right;\">\n",
       "      <th></th>\n",
       "      <th>PassengerId</th>\n",
       "      <th>Survived</th>\n",
       "      <th>Pclass</th>\n",
       "      <th>Name</th>\n",
       "      <th>Sex</th>\n",
       "      <th>Age</th>\n",
       "      <th>SibSp</th>\n",
       "      <th>Parch</th>\n",
       "      <th>Ticket</th>\n",
       "      <th>Fare</th>\n",
       "      <th>Cabin</th>\n",
       "      <th>Embarked</th>\n",
       "    </tr>\n",
       "  </thead>\n",
       "  <tbody>\n",
       "    <tr>\n",
       "      <th>0</th>\n",
       "      <td>1</td>\n",
       "      <td>0</td>\n",
       "      <td>3</td>\n",
       "      <td>Braund, Mr. Owen Harris</td>\n",
       "      <td>male</td>\n",
       "      <td>22.0</td>\n",
       "      <td>1</td>\n",
       "      <td>0</td>\n",
       "      <td>A/5 21171</td>\n",
       "      <td>7.2500</td>\n",
       "      <td>NaN</td>\n",
       "      <td>S</td>\n",
       "    </tr>\n",
       "    <tr>\n",
       "      <th>1</th>\n",
       "      <td>2</td>\n",
       "      <td>1</td>\n",
       "      <td>1</td>\n",
       "      <td>Cumings, Mrs. John Bradley (Florence Briggs Th...</td>\n",
       "      <td>female</td>\n",
       "      <td>38.0</td>\n",
       "      <td>1</td>\n",
       "      <td>0</td>\n",
       "      <td>PC 17599</td>\n",
       "      <td>71.2833</td>\n",
       "      <td>C85</td>\n",
       "      <td>C</td>\n",
       "    </tr>\n",
       "    <tr>\n",
       "      <th>2</th>\n",
       "      <td>3</td>\n",
       "      <td>1</td>\n",
       "      <td>3</td>\n",
       "      <td>Heikkinen, Miss. Laina</td>\n",
       "      <td>female</td>\n",
       "      <td>26.0</td>\n",
       "      <td>0</td>\n",
       "      <td>0</td>\n",
       "      <td>STON/O2. 3101282</td>\n",
       "      <td>7.9250</td>\n",
       "      <td>NaN</td>\n",
       "      <td>S</td>\n",
       "    </tr>\n",
       "    <tr>\n",
       "      <th>3</th>\n",
       "      <td>4</td>\n",
       "      <td>1</td>\n",
       "      <td>1</td>\n",
       "      <td>Futrelle, Mrs. Jacques Heath (Lily May Peel)</td>\n",
       "      <td>female</td>\n",
       "      <td>35.0</td>\n",
       "      <td>1</td>\n",
       "      <td>0</td>\n",
       "      <td>113803</td>\n",
       "      <td>53.1000</td>\n",
       "      <td>C123</td>\n",
       "      <td>S</td>\n",
       "    </tr>\n",
       "    <tr>\n",
       "      <th>4</th>\n",
       "      <td>5</td>\n",
       "      <td>0</td>\n",
       "      <td>3</td>\n",
       "      <td>Allen, Mr. William Henry</td>\n",
       "      <td>male</td>\n",
       "      <td>35.0</td>\n",
       "      <td>0</td>\n",
       "      <td>0</td>\n",
       "      <td>373450</td>\n",
       "      <td>8.0500</td>\n",
       "      <td>NaN</td>\n",
       "      <td>S</td>\n",
       "    </tr>\n",
       "    <tr>\n",
       "      <th>...</th>\n",
       "      <td>...</td>\n",
       "      <td>...</td>\n",
       "      <td>...</td>\n",
       "      <td>...</td>\n",
       "      <td>...</td>\n",
       "      <td>...</td>\n",
       "      <td>...</td>\n",
       "      <td>...</td>\n",
       "      <td>...</td>\n",
       "      <td>...</td>\n",
       "      <td>...</td>\n",
       "      <td>...</td>\n",
       "    </tr>\n",
       "    <tr>\n",
       "      <th>886</th>\n",
       "      <td>887</td>\n",
       "      <td>0</td>\n",
       "      <td>2</td>\n",
       "      <td>Montvila, Rev. Juozas</td>\n",
       "      <td>male</td>\n",
       "      <td>27.0</td>\n",
       "      <td>0</td>\n",
       "      <td>0</td>\n",
       "      <td>211536</td>\n",
       "      <td>13.0000</td>\n",
       "      <td>NaN</td>\n",
       "      <td>S</td>\n",
       "    </tr>\n",
       "    <tr>\n",
       "      <th>887</th>\n",
       "      <td>888</td>\n",
       "      <td>1</td>\n",
       "      <td>1</td>\n",
       "      <td>Graham, Miss. Margaret Edith</td>\n",
       "      <td>female</td>\n",
       "      <td>19.0</td>\n",
       "      <td>0</td>\n",
       "      <td>0</td>\n",
       "      <td>112053</td>\n",
       "      <td>30.0000</td>\n",
       "      <td>B42</td>\n",
       "      <td>S</td>\n",
       "    </tr>\n",
       "    <tr>\n",
       "      <th>888</th>\n",
       "      <td>889</td>\n",
       "      <td>0</td>\n",
       "      <td>3</td>\n",
       "      <td>Johnston, Miss. Catherine Helen \"Carrie\"</td>\n",
       "      <td>female</td>\n",
       "      <td>NaN</td>\n",
       "      <td>1</td>\n",
       "      <td>2</td>\n",
       "      <td>W./C. 6607</td>\n",
       "      <td>23.4500</td>\n",
       "      <td>NaN</td>\n",
       "      <td>S</td>\n",
       "    </tr>\n",
       "    <tr>\n",
       "      <th>889</th>\n",
       "      <td>890</td>\n",
       "      <td>1</td>\n",
       "      <td>1</td>\n",
       "      <td>Behr, Mr. Karl Howell</td>\n",
       "      <td>male</td>\n",
       "      <td>26.0</td>\n",
       "      <td>0</td>\n",
       "      <td>0</td>\n",
       "      <td>111369</td>\n",
       "      <td>30.0000</td>\n",
       "      <td>C148</td>\n",
       "      <td>C</td>\n",
       "    </tr>\n",
       "    <tr>\n",
       "      <th>890</th>\n",
       "      <td>891</td>\n",
       "      <td>0</td>\n",
       "      <td>3</td>\n",
       "      <td>Dooley, Mr. Patrick</td>\n",
       "      <td>male</td>\n",
       "      <td>32.0</td>\n",
       "      <td>0</td>\n",
       "      <td>0</td>\n",
       "      <td>370376</td>\n",
       "      <td>7.7500</td>\n",
       "      <td>NaN</td>\n",
       "      <td>Q</td>\n",
       "    </tr>\n",
       "  </tbody>\n",
       "</table>\n",
       "<p>891 rows × 12 columns</p>\n",
       "</div>"
      ],
      "text/plain": [
       "     PassengerId  Survived  Pclass  \\\n",
       "0              1         0       3   \n",
       "1              2         1       1   \n",
       "2              3         1       3   \n",
       "3              4         1       1   \n",
       "4              5         0       3   \n",
       "..           ...       ...     ...   \n",
       "886          887         0       2   \n",
       "887          888         1       1   \n",
       "888          889         0       3   \n",
       "889          890         1       1   \n",
       "890          891         0       3   \n",
       "\n",
       "                                                  Name     Sex   Age  SibSp  \\\n",
       "0                              Braund, Mr. Owen Harris    male  22.0      1   \n",
       "1    Cumings, Mrs. John Bradley (Florence Briggs Th...  female  38.0      1   \n",
       "2                               Heikkinen, Miss. Laina  female  26.0      0   \n",
       "3         Futrelle, Mrs. Jacques Heath (Lily May Peel)  female  35.0      1   \n",
       "4                             Allen, Mr. William Henry    male  35.0      0   \n",
       "..                                                 ...     ...   ...    ...   \n",
       "886                              Montvila, Rev. Juozas    male  27.0      0   \n",
       "887                       Graham, Miss. Margaret Edith  female  19.0      0   \n",
       "888           Johnston, Miss. Catherine Helen \"Carrie\"  female   NaN      1   \n",
       "889                              Behr, Mr. Karl Howell    male  26.0      0   \n",
       "890                                Dooley, Mr. Patrick    male  32.0      0   \n",
       "\n",
       "     Parch            Ticket     Fare Cabin Embarked  \n",
       "0        0         A/5 21171   7.2500   NaN        S  \n",
       "1        0          PC 17599  71.2833   C85        C  \n",
       "2        0  STON/O2. 3101282   7.9250   NaN        S  \n",
       "3        0            113803  53.1000  C123        S  \n",
       "4        0            373450   8.0500   NaN        S  \n",
       "..     ...               ...      ...   ...      ...  \n",
       "886      0            211536  13.0000   NaN        S  \n",
       "887      0            112053  30.0000   B42        S  \n",
       "888      2        W./C. 6607  23.4500   NaN        S  \n",
       "889      0            111369  30.0000  C148        C  \n",
       "890      0            370376   7.7500   NaN        Q  \n",
       "\n",
       "[891 rows x 12 columns]"
      ]
     },
     "execution_count": 3,
     "metadata": {},
     "output_type": "execute_result"
    }
   ],
   "source": [
    "data_df"
   ]
  },
  {
   "cell_type": "code",
   "execution_count": 4,
   "id": "8cf722db",
   "metadata": {},
   "outputs": [
    {
     "data": {
      "text/plain": [
       "<bound method NDFrame.describe of      PassengerId  Survived  Pclass  \\\n",
       "0              1         0       3   \n",
       "1              2         1       1   \n",
       "2              3         1       3   \n",
       "3              4         1       1   \n",
       "4              5         0       3   \n",
       "..           ...       ...     ...   \n",
       "886          887         0       2   \n",
       "887          888         1       1   \n",
       "888          889         0       3   \n",
       "889          890         1       1   \n",
       "890          891         0       3   \n",
       "\n",
       "                                                  Name     Sex   Age  SibSp  \\\n",
       "0                              Braund, Mr. Owen Harris    male  22.0      1   \n",
       "1    Cumings, Mrs. John Bradley (Florence Briggs Th...  female  38.0      1   \n",
       "2                               Heikkinen, Miss. Laina  female  26.0      0   \n",
       "3         Futrelle, Mrs. Jacques Heath (Lily May Peel)  female  35.0      1   \n",
       "4                             Allen, Mr. William Henry    male  35.0      0   \n",
       "..                                                 ...     ...   ...    ...   \n",
       "886                              Montvila, Rev. Juozas    male  27.0      0   \n",
       "887                       Graham, Miss. Margaret Edith  female  19.0      0   \n",
       "888           Johnston, Miss. Catherine Helen \"Carrie\"  female   NaN      1   \n",
       "889                              Behr, Mr. Karl Howell    male  26.0      0   \n",
       "890                                Dooley, Mr. Patrick    male  32.0      0   \n",
       "\n",
       "     Parch            Ticket     Fare Cabin Embarked  \n",
       "0        0         A/5 21171   7.2500   NaN        S  \n",
       "1        0          PC 17599  71.2833   C85        C  \n",
       "2        0  STON/O2. 3101282   7.9250   NaN        S  \n",
       "3        0            113803  53.1000  C123        S  \n",
       "4        0            373450   8.0500   NaN        S  \n",
       "..     ...               ...      ...   ...      ...  \n",
       "886      0            211536  13.0000   NaN        S  \n",
       "887      0            112053  30.0000   B42        S  \n",
       "888      2        W./C. 6607  23.4500   NaN        S  \n",
       "889      0            111369  30.0000  C148        C  \n",
       "890      0            370376   7.7500   NaN        Q  \n",
       "\n",
       "[891 rows x 12 columns]>"
      ]
     },
     "execution_count": 4,
     "metadata": {},
     "output_type": "execute_result"
    }
   ],
   "source": [
    "data_df.describe"
   ]
  },
  {
   "cell_type": "code",
   "execution_count": 5,
   "id": "90dd1eb2",
   "metadata": {},
   "outputs": [],
   "source": [
    "import missingno as msno"
   ]
  },
  {
   "cell_type": "code",
   "execution_count": 6,
   "id": "a68bb208",
   "metadata": {},
   "outputs": [
    {
     "data": {
      "text/plain": [
       "<AxesSubplot:>"
      ]
     },
     "execution_count": 6,
     "metadata": {},
     "output_type": "execute_result"
    },
    {
     "data": {
      "image/png": "[encoded data removed]",
      "text/plain": [
       "<Figure size 1800x720 with 3 Axes>"
      ]
     },
     "metadata": {
      "needs_background": "light"
     },
     "output_type": "display_data"
    }
   ],
   "source": [
    "msno.bar(data_df)"
   ]
  },
  {
   "cell_type": "markdown",
   "id": "4d5f77e2",
   "metadata": {},
   "source": [
    "### Deck 데이터 추출"
   ]
  },
  {
   "cell_type": "markdown",
   "id": "758f9b28",
   "metadata": {},
   "source": [
    "Cabin 데이터 중 결측치 제거하여 Deck 데이터 추출"
   ]
  },
  {
   "cell_type": "code",
   "execution_count": 7,
   "id": "5a7b4d9b",
   "metadata": {},
   "outputs": [],
   "source": [
    "from collections import Counter"
   ]
  },
  {
   "cell_type": "code",
   "execution_count": 8,
   "id": "d6424aa8",
   "metadata": {},
   "outputs": [
    {
     "data": {
      "text/plain": [
       "Counter({nan: 687,\n",
       "         'C85': 1,\n",
       "         'C123': 2,\n",
       "         'E46': 1,\n",
       "         'G6': 4,\n",
       "         'C103': 1,\n",
       "         'D56': 1,\n",
       "         'A6': 1,\n",
       "         'C23 C25 C27': 4,\n",
       "         'B78': 1,\n",
       "         'D33': 2,\n",
       "         'B30': 1,\n",
       "         'C52': 2,\n",
       "         'B28': 2,\n",
       "         'C83': 2,\n",
       "         'F33': 3,\n",
       "         'F G73': 2,\n",
       "         'E31': 1,\n",
       "         'A5': 1,\n",
       "         'D10 D12': 1,\n",
       "         'D26': 2,\n",
       "         'C110': 1,\n",
       "         'B58 B60': 2,\n",
       "         'E101': 3,\n",
       "         'F E69': 1,\n",
       "         'D47': 1,\n",
       "         'B86': 1,\n",
       "         'F2': 3,\n",
       "         'C2': 2,\n",
       "         'E33': 2,\n",
       "         'B19': 1,\n",
       "         'A7': 1,\n",
       "         'C49': 1,\n",
       "         'F4': 2,\n",
       "         'A32': 1,\n",
       "         'B4': 1,\n",
       "         'B80': 1,\n",
       "         'A31': 1,\n",
       "         'D36': 2,\n",
       "         'D15': 1,\n",
       "         'C93': 2,\n",
       "         'C78': 2,\n",
       "         'D35': 2,\n",
       "         'C87': 1,\n",
       "         'B77': 2,\n",
       "         'E67': 2,\n",
       "         'B94': 1,\n",
       "         'C125': 2,\n",
       "         'C99': 1,\n",
       "         'C118': 1,\n",
       "         'D7': 1,\n",
       "         'A19': 1,\n",
       "         'B49': 2,\n",
       "         'D': 3,\n",
       "         'C22 C26': 3,\n",
       "         'C106': 1,\n",
       "         'C65': 2,\n",
       "         'E36': 1,\n",
       "         'C54': 1,\n",
       "         'B57 B59 B63 B66': 2,\n",
       "         'C7': 1,\n",
       "         'E34': 1,\n",
       "         'C32': 1,\n",
       "         'B18': 2,\n",
       "         'C124': 2,\n",
       "         'C91': 1,\n",
       "         'E40': 1,\n",
       "         'T': 1,\n",
       "         'C128': 1,\n",
       "         'D37': 1,\n",
       "         'B35': 2,\n",
       "         'E50': 1,\n",
       "         'C82': 1,\n",
       "         'B96 B98': 4,\n",
       "         'E10': 1,\n",
       "         'E44': 2,\n",
       "         'A34': 1,\n",
       "         'C104': 1,\n",
       "         'C111': 1,\n",
       "         'C92': 2,\n",
       "         'E38': 1,\n",
       "         'D21': 1,\n",
       "         'E12': 1,\n",
       "         'E63': 1,\n",
       "         'A14': 1,\n",
       "         'B37': 1,\n",
       "         'C30': 1,\n",
       "         'D20': 2,\n",
       "         'B79': 1,\n",
       "         'E25': 2,\n",
       "         'D46': 1,\n",
       "         'B73': 1,\n",
       "         'C95': 1,\n",
       "         'B38': 1,\n",
       "         'B39': 1,\n",
       "         'B22': 2,\n",
       "         'C86': 1,\n",
       "         'C70': 1,\n",
       "         'A16': 1,\n",
       "         'C101': 1,\n",
       "         'C68': 2,\n",
       "         'A10': 1,\n",
       "         'E68': 1,\n",
       "         'B41': 1,\n",
       "         'A20': 1,\n",
       "         'D19': 1,\n",
       "         'D50': 1,\n",
       "         'D9': 1,\n",
       "         'A23': 1,\n",
       "         'B50': 1,\n",
       "         'A26': 1,\n",
       "         'D48': 1,\n",
       "         'E58': 1,\n",
       "         'C126': 2,\n",
       "         'B71': 1,\n",
       "         'B51 B53 B55': 2,\n",
       "         'D49': 1,\n",
       "         'B5': 2,\n",
       "         'B20': 2,\n",
       "         'F G63': 1,\n",
       "         'C62 C64': 1,\n",
       "         'E24': 2,\n",
       "         'C90': 1,\n",
       "         'C45': 1,\n",
       "         'E8': 2,\n",
       "         'B101': 1,\n",
       "         'D45': 1,\n",
       "         'C46': 1,\n",
       "         'D30': 1,\n",
       "         'E121': 2,\n",
       "         'D11': 1,\n",
       "         'E77': 1,\n",
       "         'F38': 1,\n",
       "         'B3': 1,\n",
       "         'D6': 1,\n",
       "         'B82 B84': 1,\n",
       "         'D17': 2,\n",
       "         'A36': 1,\n",
       "         'B102': 1,\n",
       "         'B69': 1,\n",
       "         'E49': 1,\n",
       "         'C47': 1,\n",
       "         'D28': 1,\n",
       "         'E17': 1,\n",
       "         'A24': 1,\n",
       "         'C50': 1,\n",
       "         'B42': 1,\n",
       "         'C148': 1})"
      ]
     },
     "execution_count": 8,
     "metadata": {},
     "output_type": "execute_result"
    }
   ],
   "source": [
    "Counter(data_df['Cabin'])"
   ]
  },
  {
   "cell_type": "code",
   "execution_count": 9,
   "id": "0d62a645",
   "metadata": {},
   "outputs": [],
   "source": [
    "cabin_not_null = data_df['Cabin'].dropna()"
   ]
  },
  {
   "cell_type": "code",
   "execution_count": 10,
   "id": "0ea5e5b7",
   "metadata": {},
   "outputs": [
    {
     "data": {
      "text/plain": [
       "1              C85\n",
       "3             C123\n",
       "6              E46\n",
       "10              G6\n",
       "11            C103\n",
       "          ...     \n",
       "871            D35\n",
       "872    B51 B53 B55\n",
       "879            C50\n",
       "887            B42\n",
       "889           C148\n",
       "Name: Cabin, Length: 204, dtype: object"
      ]
     },
     "execution_count": 10,
     "metadata": {},
     "output_type": "execute_result"
    }
   ],
   "source": [
    "cabin_not_null"
   ]
  },
  {
   "cell_type": "code",
   "execution_count": 11,
   "id": "e09183dd",
   "metadata": {},
   "outputs": [],
   "source": [
    "cabin_cap = cabin_not_null.apply(lambda x : x[0])"
   ]
  },
  {
   "cell_type": "code",
   "execution_count": 12,
   "id": "c7392eda",
   "metadata": {},
   "outputs": [
    {
     "data": {
      "text/plain": [
       "1      C\n",
       "3      C\n",
       "6      E\n",
       "10     G\n",
       "11     C\n",
       "      ..\n",
       "871    D\n",
       "872    B\n",
       "879    C\n",
       "887    B\n",
       "889    C\n",
       "Name: Cabin, Length: 204, dtype: object"
      ]
     },
     "execution_count": 12,
     "metadata": {},
     "output_type": "execute_result"
    }
   ],
   "source": [
    "cabin_cap"
   ]
  },
  {
   "cell_type": "code",
   "execution_count": 13,
   "id": "d768d430",
   "metadata": {},
   "outputs": [
    {
     "data": {
      "text/plain": [
       "Counter({'C': 59, 'E': 32, 'G': 4, 'D': 33, 'A': 15, 'B': 47, 'F': 13, 'T': 1})"
      ]
     },
     "execution_count": 13,
     "metadata": {},
     "output_type": "execute_result"
    }
   ],
   "source": [
    "Counter(cabin_cap)"
   ]
  },
  {
   "cell_type": "code",
   "execution_count": 14,
   "id": "ef2d1ff1",
   "metadata": {},
   "outputs": [],
   "source": [
    "t_deck_index = cabin_cap[cabin_cap == 'T'].index[0]"
   ]
  },
  {
   "cell_type": "code",
   "execution_count": 15,
   "id": "1bb04bb7",
   "metadata": {},
   "outputs": [],
   "source": [
    "del cabin_cap[t_deck_index]"
   ]
  },
  {
   "cell_type": "markdown",
   "id": "3b8341c2",
   "metadata": {},
   "source": [
    "### Label Encounter 적용"
   ]
  },
  {
   "cell_type": "code",
   "execution_count": 16,
   "id": "6425c455",
   "metadata": {},
   "outputs": [],
   "source": [
    "from sklearn import preprocessing"
   ]
  },
  {
   "cell_type": "code",
   "execution_count": 17,
   "id": "7d5aa09c",
   "metadata": {},
   "outputs": [],
   "source": [
    "deck_label_encoder = preprocessing.LabelEncoder()"
   ]
  },
  {
   "cell_type": "code",
   "execution_count": 18,
   "id": "7d187358",
   "metadata": {},
   "outputs": [
    {
     "data": {
      "text/plain": [
       "['C', 'E', 'G', 'D', 'A', 'B', 'F']"
      ]
     },
     "execution_count": 18,
     "metadata": {},
     "output_type": "execute_result"
    }
   ],
   "source": [
    "list(Counter(cabin_cap).keys())"
   ]
  },
  {
   "cell_type": "code",
   "execution_count": 19,
   "id": "45adab47",
   "metadata": {},
   "outputs": [
    {
     "data": {
      "text/plain": [
       "LabelEncoder()"
      ]
     },
     "execution_count": 19,
     "metadata": {},
     "output_type": "execute_result"
    }
   ],
   "source": [
    "deck_label_encoder.fit(list(Counter(cabin_cap).keys()))"
   ]
  },
  {
   "cell_type": "code",
   "execution_count": 20,
   "id": "216f0037",
   "metadata": {},
   "outputs": [],
   "source": [
    "deck_data = deck_label_encoder.transform(cabin_cap)"
   ]
  },
  {
   "cell_type": "code",
   "execution_count": 21,
   "id": "f464f972",
   "metadata": {},
   "outputs": [
    {
     "data": {
      "text/plain": [
       "array([2, 2, 4, 6, 2, 3, 0, 2, 1, 3, 1, 2, 1, 2, 5, 5, 2, 4, 0, 3, 3, 2,\n",
       "       1, 4, 3, 5, 3, 2, 1, 5, 2, 4, 1, 0, 2, 5, 0, 5, 1, 1, 6, 0, 3, 3,\n",
       "       2, 2, 2, 3, 6, 2, 1, 4, 1, 2, 2, 2, 3, 0, 1, 3, 2, 2, 1, 4, 2, 2,\n",
       "       4, 2, 1, 2, 4, 2, 3, 1, 2, 2, 2, 4, 5, 2, 5, 2, 4, 3, 1, 4, 2, 1,\n",
       "       3, 6, 2, 4, 2, 4, 1, 2, 0, 2, 2, 2, 4, 3, 4, 4, 3, 0, 1, 2, 1, 2,\n",
       "       3, 2, 1, 2, 4, 3, 5, 1, 1, 2, 1, 1, 1, 2, 2, 0, 4, 2, 4, 4, 2, 0,\n",
       "       4, 1, 3, 0, 2, 5, 3, 3, 3, 0, 1, 1, 3, 0, 3, 4, 2, 1, 1, 3, 1, 1,\n",
       "       2, 5, 2, 4, 4, 2, 2, 2, 5, 2, 4, 4, 1, 1, 3, 2, 1, 1, 3, 4, 1, 1,\n",
       "       3, 4, 5, 1, 1, 3, 1, 3, 1, 0, 4, 1, 1, 4, 1, 4, 2, 2, 3, 4, 3, 0,\n",
       "       3, 1, 2, 1, 2])"
      ]
     },
     "execution_count": 21,
     "metadata": {},
     "output_type": "execute_result"
    }
   ],
   "source": [
    "deck_data"
   ]
  },
  {
   "cell_type": "code",
   "execution_count": 22,
   "id": "089f425b",
   "metadata": {},
   "outputs": [
    {
     "data": {
      "text/plain": [
       "203"
      ]
     },
     "execution_count": 22,
     "metadata": {},
     "output_type": "execute_result"
    }
   ],
   "source": [
    "len(deck_data)"
   ]
  },
  {
   "cell_type": "code",
   "execution_count": 23,
   "id": "558d6d46",
   "metadata": {
    "scrolled": true
   },
   "outputs": [
    {
     "data": {
      "text/plain": [
       "[1,\n",
       " 3,\n",
       " 6,\n",
       " 10,\n",
       " 11,\n",
       " 21,\n",
       " 23,\n",
       " 27,\n",
       " 31,\n",
       " 52,\n",
       " 54,\n",
       " 55,\n",
       " 61,\n",
       " 62,\n",
       " 66,\n",
       " 75,\n",
       " 88,\n",
       " 92,\n",
       " 96,\n",
       " 97,\n",
       " 102,\n",
       " 110,\n",
       " 118,\n",
       " 123,\n",
       " 124,\n",
       " 128,\n",
       " 136,\n",
       " 137,\n",
       " 139,\n",
       " 148,\n",
       " 151,\n",
       " 166,\n",
       " 170,\n",
       " 174,\n",
       " 177,\n",
       " 183,\n",
       " 185,\n",
       " 193,\n",
       " 194,\n",
       " 195,\n",
       " 205,\n",
       " 209,\n",
       " 215,\n",
       " 218,\n",
       " 224,\n",
       " 230,\n",
       " 245,\n",
       " 248,\n",
       " 251,\n",
       " 252,\n",
       " 257,\n",
       " 262,\n",
       " 263,\n",
       " 268,\n",
       " 269,\n",
       " 273,\n",
       " 275,\n",
       " 284,\n",
       " 291,\n",
       " 292,\n",
       " 297,\n",
       " 298,\n",
       " 299,\n",
       " 303,\n",
       " 305,\n",
       " 307,\n",
       " 309,\n",
       " 310,\n",
       " 311,\n",
       " 318,\n",
       " 319,\n",
       " 325,\n",
       " 327,\n",
       " 329,\n",
       " 331,\n",
       " 332,\n",
       " 336,\n",
       " 337,\n",
       " 340,\n",
       " 341,\n",
       " 345,\n",
       " 351,\n",
       " 356,\n",
       " 366,\n",
       " 369,\n",
       " 370,\n",
       " 377,\n",
       " 390,\n",
       " 393,\n",
       " 394,\n",
       " 412,\n",
       " 429,\n",
       " 430,\n",
       " 434,\n",
       " 435,\n",
       " 438,\n",
       " 445,\n",
       " 449,\n",
       " 452,\n",
       " 453,\n",
       " 456,\n",
       " 457,\n",
       " 460,\n",
       " 462,\n",
       " 473,\n",
       " 475,\n",
       " 484,\n",
       " 486,\n",
       " 487,\n",
       " 492,\n",
       " 496,\n",
       " 498,\n",
       " 504,\n",
       " 505,\n",
       " 512,\n",
       " 515,\n",
       " 516,\n",
       " 520,\n",
       " 523,\n",
       " 527,\n",
       " 536,\n",
       " 539,\n",
       " 540,\n",
       " 544,\n",
       " 550,\n",
       " 556,\n",
       " 558,\n",
       " 571,\n",
       " 572,\n",
       " 577,\n",
       " 581,\n",
       " 583,\n",
       " 585,\n",
       " 587,\n",
       " 591,\n",
       " 599,\n",
       " 609,\n",
       " 618,\n",
       " 621,\n",
       " 625,\n",
       " 627,\n",
       " 630,\n",
       " 632,\n",
       " 641,\n",
       " 645,\n",
       " 647,\n",
       " 659,\n",
       " 662,\n",
       " 669,\n",
       " 671,\n",
       " 679,\n",
       " 681,\n",
       " 689,\n",
       " 690,\n",
       " 698,\n",
       " 699,\n",
       " 700,\n",
       " 701,\n",
       " 707,\n",
       " 710,\n",
       " 711,\n",
       " 712,\n",
       " 715,\n",
       " 716,\n",
       " 717,\n",
       " 724,\n",
       " 730,\n",
       " 737,\n",
       " 740,\n",
       " 741,\n",
       " 742,\n",
       " 745,\n",
       " 748,\n",
       " 751,\n",
       " 759,\n",
       " 763,\n",
       " 765,\n",
       " 772,\n",
       " 776,\n",
       " 779,\n",
       " 781,\n",
       " 782,\n",
       " 789,\n",
       " 796,\n",
       " 802,\n",
       " 806,\n",
       " 809,\n",
       " 815,\n",
       " 820,\n",
       " 823,\n",
       " 829,\n",
       " 835,\n",
       " 839,\n",
       " 849,\n",
       " 853,\n",
       " 857,\n",
       " 862,\n",
       " 867,\n",
       " 871,\n",
       " 872,\n",
       " 879,\n",
       " 887,\n",
       " 889]"
      ]
     },
     "execution_count": 23,
     "metadata": {},
     "output_type": "execute_result"
    }
   ],
   "source": [
    "list(cabin_cap.index)"
   ]
  },
  {
   "cell_type": "markdown",
   "id": "ade87c68",
   "metadata": {},
   "source": [
    "### Deck data 준비"
   ]
  },
  {
   "cell_type": "code",
   "execution_count": 24,
   "id": "e24493fb",
   "metadata": {
    "scrolled": false
   },
   "outputs": [
    {
     "data": {
      "text/html": [
       "<div>\n",
       "<style scoped>\n",
       "    .dataframe tbody tr th:only-of-type {\n",
       "        vertical-align: middle;\n",
       "    }\n",
       "\n",
       "    .dataframe tbody tr th {\n",
       "        vertical-align: top;\n",
       "    }\n",
       "\n",
       "    .dataframe thead th {\n",
       "        text-align: right;\n",
       "    }\n",
       "</style>\n",
       "<table border=\"1\" class=\"dataframe\">\n",
       "  <thead>\n",
       "    <tr style=\"text-align: right;\">\n",
       "      <th></th>\n",
       "      <th>Pclass</th>\n",
       "      <th>SibSp</th>\n",
       "      <th>Parch</th>\n",
       "      <th>Fare</th>\n",
       "      <th>Embarked</th>\n",
       "    </tr>\n",
       "  </thead>\n",
       "  <tbody>\n",
       "    <tr>\n",
       "      <th>1</th>\n",
       "      <td>1</td>\n",
       "      <td>1</td>\n",
       "      <td>0</td>\n",
       "      <td>71.2833</td>\n",
       "      <td>C</td>\n",
       "    </tr>\n",
       "    <tr>\n",
       "      <th>3</th>\n",
       "      <td>1</td>\n",
       "      <td>1</td>\n",
       "      <td>0</td>\n",
       "      <td>53.1000</td>\n",
       "      <td>S</td>\n",
       "    </tr>\n",
       "    <tr>\n",
       "      <th>6</th>\n",
       "      <td>1</td>\n",
       "      <td>0</td>\n",
       "      <td>0</td>\n",
       "      <td>51.8625</td>\n",
       "      <td>S</td>\n",
       "    </tr>\n",
       "    <tr>\n",
       "      <th>10</th>\n",
       "      <td>3</td>\n",
       "      <td>1</td>\n",
       "      <td>1</td>\n",
       "      <td>16.7000</td>\n",
       "      <td>S</td>\n",
       "    </tr>\n",
       "    <tr>\n",
       "      <th>11</th>\n",
       "      <td>1</td>\n",
       "      <td>0</td>\n",
       "      <td>0</td>\n",
       "      <td>26.5500</td>\n",
       "      <td>S</td>\n",
       "    </tr>\n",
       "    <tr>\n",
       "      <th>...</th>\n",
       "      <td>...</td>\n",
       "      <td>...</td>\n",
       "      <td>...</td>\n",
       "      <td>...</td>\n",
       "      <td>...</td>\n",
       "    </tr>\n",
       "    <tr>\n",
       "      <th>871</th>\n",
       "      <td>1</td>\n",
       "      <td>1</td>\n",
       "      <td>1</td>\n",
       "      <td>52.5542</td>\n",
       "      <td>S</td>\n",
       "    </tr>\n",
       "    <tr>\n",
       "      <th>872</th>\n",
       "      <td>1</td>\n",
       "      <td>0</td>\n",
       "      <td>0</td>\n",
       "      <td>5.0000</td>\n",
       "      <td>S</td>\n",
       "    </tr>\n",
       "    <tr>\n",
       "      <th>879</th>\n",
       "      <td>1</td>\n",
       "      <td>0</td>\n",
       "      <td>1</td>\n",
       "      <td>83.1583</td>\n",
       "      <td>C</td>\n",
       "    </tr>\n",
       "    <tr>\n",
       "      <th>887</th>\n",
       "      <td>1</td>\n",
       "      <td>0</td>\n",
       "      <td>0</td>\n",
       "      <td>30.0000</td>\n",
       "      <td>S</td>\n",
       "    </tr>\n",
       "    <tr>\n",
       "      <th>889</th>\n",
       "      <td>1</td>\n",
       "      <td>0</td>\n",
       "      <td>0</td>\n",
       "      <td>30.0000</td>\n",
       "      <td>C</td>\n",
       "    </tr>\n",
       "  </tbody>\n",
       "</table>\n",
       "<p>204 rows × 5 columns</p>\n",
       "</div>"
      ],
      "text/plain": [
       "     Pclass  SibSp  Parch     Fare Embarked\n",
       "1         1      1      0  71.2833        C\n",
       "3         1      1      0  53.1000        S\n",
       "6         1      0      0  51.8625        S\n",
       "10        3      1      1  16.7000        S\n",
       "11        1      0      0  26.5500        S\n",
       "..      ...    ...    ...      ...      ...\n",
       "871       1      1      1  52.5542        S\n",
       "872       1      0      0   5.0000        S\n",
       "879       1      0      1  83.1583        C\n",
       "887       1      0      0  30.0000        S\n",
       "889       1      0      0  30.0000        C\n",
       "\n",
       "[204 rows x 5 columns]"
      ]
     },
     "execution_count": 24,
     "metadata": {},
     "output_type": "execute_result"
    }
   ],
   "source": [
    "deck_X = data_df.loc[list(data_df['Cabin'].dropna().index)][['Pclass', 'SibSp', 'Parch', 'Fare', 'Embarked']]\n",
    "deck_X"
   ]
  },
  {
   "cell_type": "code",
   "execution_count": 25,
   "id": "3414de0c",
   "metadata": {},
   "outputs": [],
   "source": [
    "embarked_label_encoder = preprocessing.LabelEncoder()\n",
    "embarked_label_encoder.fit(deck_X['Embarked'])\n",
    "deck_X['Embarked'] = embarked_label_encoder.transform(deck_X['Embarked'])"
   ]
  },
  {
   "cell_type": "code",
   "execution_count": 26,
   "id": "f57388a2",
   "metadata": {},
   "outputs": [
    {
     "data": {
      "text/html": [
       "<div>\n",
       "<style scoped>\n",
       "    .dataframe tbody tr th:only-of-type {\n",
       "        vertical-align: middle;\n",
       "    }\n",
       "\n",
       "    .dataframe tbody tr th {\n",
       "        vertical-align: top;\n",
       "    }\n",
       "\n",
       "    .dataframe thead th {\n",
       "        text-align: right;\n",
       "    }\n",
       "</style>\n",
       "<table border=\"1\" class=\"dataframe\">\n",
       "  <thead>\n",
       "    <tr style=\"text-align: right;\">\n",
       "      <th></th>\n",
       "      <th>Pclass</th>\n",
       "      <th>SibSp</th>\n",
       "      <th>Parch</th>\n",
       "      <th>Fare</th>\n",
       "      <th>Embarked</th>\n",
       "    </tr>\n",
       "  </thead>\n",
       "  <tbody>\n",
       "    <tr>\n",
       "      <th>1</th>\n",
       "      <td>1</td>\n",
       "      <td>1</td>\n",
       "      <td>0</td>\n",
       "      <td>71.2833</td>\n",
       "      <td>0</td>\n",
       "    </tr>\n",
       "    <tr>\n",
       "      <th>3</th>\n",
       "      <td>1</td>\n",
       "      <td>1</td>\n",
       "      <td>0</td>\n",
       "      <td>53.1000</td>\n",
       "      <td>2</td>\n",
       "    </tr>\n",
       "    <tr>\n",
       "      <th>6</th>\n",
       "      <td>1</td>\n",
       "      <td>0</td>\n",
       "      <td>0</td>\n",
       "      <td>51.8625</td>\n",
       "      <td>2</td>\n",
       "    </tr>\n",
       "    <tr>\n",
       "      <th>10</th>\n",
       "      <td>3</td>\n",
       "      <td>1</td>\n",
       "      <td>1</td>\n",
       "      <td>16.7000</td>\n",
       "      <td>2</td>\n",
       "    </tr>\n",
       "    <tr>\n",
       "      <th>11</th>\n",
       "      <td>1</td>\n",
       "      <td>0</td>\n",
       "      <td>0</td>\n",
       "      <td>26.5500</td>\n",
       "      <td>2</td>\n",
       "    </tr>\n",
       "    <tr>\n",
       "      <th>...</th>\n",
       "      <td>...</td>\n",
       "      <td>...</td>\n",
       "      <td>...</td>\n",
       "      <td>...</td>\n",
       "      <td>...</td>\n",
       "    </tr>\n",
       "    <tr>\n",
       "      <th>871</th>\n",
       "      <td>1</td>\n",
       "      <td>1</td>\n",
       "      <td>1</td>\n",
       "      <td>52.5542</td>\n",
       "      <td>2</td>\n",
       "    </tr>\n",
       "    <tr>\n",
       "      <th>872</th>\n",
       "      <td>1</td>\n",
       "      <td>0</td>\n",
       "      <td>0</td>\n",
       "      <td>5.0000</td>\n",
       "      <td>2</td>\n",
       "    </tr>\n",
       "    <tr>\n",
       "      <th>879</th>\n",
       "      <td>1</td>\n",
       "      <td>0</td>\n",
       "      <td>1</td>\n",
       "      <td>83.1583</td>\n",
       "      <td>0</td>\n",
       "    </tr>\n",
       "    <tr>\n",
       "      <th>887</th>\n",
       "      <td>1</td>\n",
       "      <td>0</td>\n",
       "      <td>0</td>\n",
       "      <td>30.0000</td>\n",
       "      <td>2</td>\n",
       "    </tr>\n",
       "    <tr>\n",
       "      <th>889</th>\n",
       "      <td>1</td>\n",
       "      <td>0</td>\n",
       "      <td>0</td>\n",
       "      <td>30.0000</td>\n",
       "      <td>0</td>\n",
       "    </tr>\n",
       "  </tbody>\n",
       "</table>\n",
       "<p>203 rows × 5 columns</p>\n",
       "</div>"
      ],
      "text/plain": [
       "     Pclass  SibSp  Parch     Fare  Embarked\n",
       "1         1      1      0  71.2833         0\n",
       "3         1      1      0  53.1000         2\n",
       "6         1      0      0  51.8625         2\n",
       "10        3      1      1  16.7000         2\n",
       "11        1      0      0  26.5500         2\n",
       "..      ...    ...    ...      ...       ...\n",
       "871       1      1      1  52.5542         2\n",
       "872       1      0      0   5.0000         2\n",
       "879       1      0      1  83.1583         0\n",
       "887       1      0      0  30.0000         2\n",
       "889       1      0      0  30.0000         0\n",
       "\n",
       "[203 rows x 5 columns]"
      ]
     },
     "execution_count": 26,
     "metadata": {},
     "output_type": "execute_result"
    }
   ],
   "source": [
    "deck_X.drop(t_deck_index)"
   ]
  },
  {
   "cell_type": "code",
   "execution_count": 27,
   "id": "d8cb4fc1",
   "metadata": {},
   "outputs": [
    {
     "data": {
      "text/plain": [
       "array([[ 1.    ,  1.    ,  0.    , 71.2833,  0.    ],\n",
       "       [ 1.    ,  1.    ,  0.    , 53.1   ,  2.    ],\n",
       "       [ 1.    ,  0.    ,  0.    , 51.8625,  2.    ],\n",
       "       ...,\n",
       "       [ 1.    ,  0.    ,  1.    , 83.1583,  0.    ],\n",
       "       [ 1.    ,  0.    ,  0.    , 30.    ,  2.    ],\n",
       "       [ 1.    ,  0.    ,  0.    , 30.    ,  0.    ]])"
      ]
     },
     "execution_count": 27,
     "metadata": {},
     "output_type": "execute_result"
    }
   ],
   "source": [
    "deck_X = np.array(deck_X.drop(t_deck_index))\n",
    "deck_X"
   ]
  },
  {
   "cell_type": "code",
   "execution_count": 28,
   "id": "cf8c0986",
   "metadata": {},
   "outputs": [
    {
     "data": {
      "text/plain": [
       "203"
      ]
     },
     "execution_count": 28,
     "metadata": {},
     "output_type": "execute_result"
    }
   ],
   "source": [
    "len(deck_X)"
   ]
  },
  {
   "cell_type": "markdown",
   "id": "3e14d889",
   "metadata": {},
   "source": [
    "### Train / Test 분리"
   ]
  },
  {
   "cell_type": "code",
   "execution_count": 29,
   "id": "e5e61b33",
   "metadata": {},
   "outputs": [],
   "source": [
    "from sklearn.model_selection import train_test_split"
   ]
  },
  {
   "cell_type": "code",
   "execution_count": 30,
   "id": "d108f437",
   "metadata": {},
   "outputs": [],
   "source": [
    "X_train, X_test, y_train, y_test = train_test_split(deck_X, deck_data, random_state=2, stratify=deck_data)"
   ]
  },
  {
   "cell_type": "markdown",
   "id": "733e264e",
   "metadata": {},
   "source": [
    "### 모델 객체 생성"
   ]
  },
  {
   "cell_type": "code",
   "execution_count": 1,
   "id": "f43964e5",
   "metadata": {},
   "outputs": [],
   "source": [
    "from sklearn import neighbors, cluster, svm"
   ]
  },
  {
   "cell_type": "code",
   "execution_count": 32,
   "id": "b597b3d2",
   "metadata": {},
   "outputs": [],
   "source": [
    "knn_model = neighbors.KNeighborsClassifier(1)\n",
    "kmeans_model = cluster.KMeans(n_clusters=8)\n",
    "svm_model = svm.LinearSVC()"
   ]
  },
  {
   "cell_type": "markdown",
   "id": "503ea81a",
   "metadata": {},
   "source": [
    "### 모델 객체 학습"
   ]
  },
  {
   "cell_type": "code",
   "execution_count": 33,
   "id": "4d955fc6",
   "metadata": {},
   "outputs": [
    {
     "data": {
      "text/plain": [
       "LinearSVC()"
      ]
     },
     "execution_count": 33,
     "metadata": {},
     "output_type": "execute_result"
    }
   ],
   "source": [
    "knn_model.fit(X_train, y_train)\n",
    "kmeans_model.fit(X_train, y_train)\n",
    "svm_model.fit(X_train, y_train)"
   ]
  },
  {
   "cell_type": "markdown",
   "id": "8f061eb2",
   "metadata": {},
   "source": [
    "### 모델 테스트"
   ]
  },
  {
   "cell_type": "code",
   "execution_count": 34,
   "id": "08f25abe",
   "metadata": {},
   "outputs": [
    {
     "name": "stdout",
     "output_type": "stream",
     "text": [
      "[6 0 2 3 0 2 1 1 5 2 3 2 1 1 2 0 3 2 4 4 1 2 5 1 2 2 1 3 2 3 2 1 1 1 5 1 2\n",
      " 1 5 2 4 2 1 3 4 2 4 5 2 2 2]\n",
      "0.6862745098039216\n"
     ]
    }
   ],
   "source": [
    "print(knn_model.predict(X_test))\n",
    "print(knn_model.score(X_test, y_test))"
   ]
  },
  {
   "cell_type": "code",
   "execution_count": 35,
   "id": "d2902d2b",
   "metadata": {},
   "outputs": [
    {
     "name": "stdout",
     "output_type": "stream",
     "text": [
      "[0 5 5 2 0 0 5 3 0 5 2 2 1 2 5 5 2 0 5 0 0 5 5 2 4 4 5 5 0 0 6 5 6 0 0 7 2\n",
      " 2 0 4 0 0 2 2 0 0 2 0 2 7 7]\n",
      "-4361.8209432746025\n"
     ]
    }
   ],
   "source": [
    "print(kmeans_model.predict(X_test))\n",
    "print(kmeans_model.score(X_test, y_test))"
   ]
  },
  {
   "cell_type": "code",
   "execution_count": 36,
   "id": "4376ecb9",
   "metadata": {},
   "outputs": [
    {
     "name": "stdout",
     "output_type": "stream",
     "text": [
      "[5 3 3 3 3 3 3 3 5 3 3 3 3 3 3 3 3 3 3 3 4 3 5 3 3 3 3 3 3 3 3 3 3 4 4 3 3\n",
      " 3 5 3 5 3 3 3 5 3 3 5 3 3 3]\n",
      "0.19607843137254902\n"
     ]
    }
   ],
   "source": [
    "print(svm_model.predict(X_test))\n",
    "print(svm_model.score(X_test, y_test))"
   ]
  },
  {
   "cell_type": "markdown",
   "id": "09a1995a",
   "metadata": {},
   "source": [
    "### Over-sampling"
   ]
  },
  {
   "cell_type": "markdown",
   "id": "53141a69",
   "metadata": {},
   "source": [
    "204개의 데이터는 약간 모자라므로 T덱을 제거 후 over-sampling"
   ]
  },
  {
   "cell_type": "code",
   "execution_count": 37,
   "id": "21f53534",
   "metadata": {},
   "outputs": [],
   "source": [
    "from imblearn.over_sampling import SMOTE"
   ]
  },
  {
   "cell_type": "code",
   "execution_count": 38,
   "id": "dc658807",
   "metadata": {},
   "outputs": [],
   "source": [
    "smote = SMOTE(k_neighbors=1)"
   ]
  },
  {
   "cell_type": "code",
   "execution_count": 39,
   "id": "32af015c",
   "metadata": {},
   "outputs": [],
   "source": [
    "X_train_over, y_train_over = smote.fit_sample(X_train, y_train)"
   ]
  },
  {
   "cell_type": "code",
   "execution_count": 40,
   "id": "861b3a63",
   "metadata": {},
   "outputs": [
    {
     "data": {
      "text/plain": [
       "308"
      ]
     },
     "execution_count": 40,
     "metadata": {},
     "output_type": "execute_result"
    }
   ],
   "source": [
    "len(X_train_over)"
   ]
  },
  {
   "cell_type": "markdown",
   "id": "da5b8c22",
   "metadata": {},
   "source": [
    "### 새 데이터로 학습 & 테스트"
   ]
  },
  {
   "cell_type": "code",
   "execution_count": 41,
   "id": "d0b2fb01",
   "metadata": {},
   "outputs": [
    {
     "name": "stdout",
     "output_type": "stream",
     "text": [
      "[6 0 2 3 1 1 1 1 5 2 3 2 1 1 2 0 3 2 4 4 1 2 5 1 2 2 1 3 2 3 2 1 1 1 5 1 2\n",
      " 1 1 2 4 2 1 3 4 2 4 4 2 2 2]\n",
      "0.6666666666666666\n",
      "\n",
      "[0 7 7 2 5 5 7 3 0 7 2 2 1 2 7 5 2 5 7 5 0 7 5 2 4 4 7 5 5 5 6 7 6 0 0 4 2\n",
      " 2 5 4 0 5 2 2 0 5 2 0 2 4 4]\n",
      "-3705.0184051725882\n",
      "\n",
      "[5 5 5 1 5 0 5 1 5 5 1 5 1 5 5 5 5 5 5 5 5 5 5 1 1 5 1 5 0 5 5 5 1 5 5 1 1\n",
      " 5 5 1 5 5 1 5 5 5 1 5 5 1 5]\n",
      "0.17647058823529413\n"
     ]
    }
   ],
   "source": [
    "knn_model.fit(X_train_over, y_train_over)\n",
    "kmeans_model.fit(X_train_over, y_train_over)\n",
    "svm_model.fit(X_train_over, y_train_over)\n",
    "\n",
    "print(knn_model.predict(X_test))\n",
    "print(knn_model.score(X_test, y_test))\n",
    "\n",
    "print()\n",
    "\n",
    "print(kmeans_model.predict(X_test))\n",
    "print(kmeans_model.score(X_test, y_test))\n",
    "\n",
    "print()\n",
    "\n",
    "print(svm_model.predict(X_test))\n",
    "print(svm_model.score(X_test, y_test))"
   ]
  },
  {
   "cell_type": "markdown",
   "id": "2c4f1cdf",
   "metadata": {},
   "source": [
    "### Gradient Boosting & Cross Validation"
   ]
  },
  {
   "cell_type": "code",
   "execution_count": 42,
   "id": "5d595482",
   "metadata": {},
   "outputs": [],
   "source": [
    "from sklearn import model_selection, ensemble"
   ]
  },
  {
   "cell_type": "code",
   "execution_count": 43,
   "id": "a1a5c3c3",
   "metadata": {},
   "outputs": [],
   "source": [
    "def create_gb_model():\n",
    "    \n",
    "    model = ensemble.GradientBoostingClassifier(n_estimators=1000, \n",
    "                                            max_depth=4, \n",
    "                                            min_samples_split=5, \n",
    "                                            learning_rate=0.01,\n",
    "                                            random_state=42)\n",
    "    return model"
   ]
  },
  {
   "cell_type": "code",
   "execution_count": 44,
   "id": "21219aa4",
   "metadata": {},
   "outputs": [
    {
     "name": "stderr",
     "output_type": "stream",
     "text": [
      "[Parallel(n_jobs=-1)]: Using backend LokyBackend with 12 concurrent workers.\n",
      "[Parallel(n_jobs=-1)]: Done  10 out of  10 | elapsed:   19.6s finished\n",
      "[Parallel(n_jobs=-1)]: Using backend LokyBackend with 12 concurrent workers.\n",
      "[Parallel(n_jobs=-1)]: Done  10 out of  10 | elapsed:   15.5s finished\n"
     ]
    }
   ],
   "source": [
    "model = create_gb_model()\n",
    "kf = model_selection.KFold(n_splits=10, shuffle=True, random_state=2)\n",
    "\n",
    "valid_scores_kf = model_selection.cross_val_score(model, deck_X, deck_data,\n",
    "                                                  cv=kf, verbose=1, n_jobs=-1)\n",
    "\n",
    "model = create_gb_model()\n",
    "stratified_kf = model_selection.StratifiedKFold(n_splits=10, shuffle=True, random_state=2)\n",
    "\n",
    "valid_scores_s_kf = model_selection.cross_val_score(model, deck_X, deck_data,\n",
    "                                                    cv=stratified_kf, verbose=1, n_jobs=-1)"
   ]
  },
  {
   "cell_type": "code",
   "execution_count": 45,
   "id": "531775d0",
   "metadata": {},
   "outputs": [
    {
     "name": "stdout",
     "output_type": "stream",
     "text": [
      "Cross-Validation Score (K-Fold): 68.05%\n",
      "Cross-Validation Score (Stratified K-Fold): 63.02%\n"
     ]
    }
   ],
   "source": [
    "print('Cross-Validation Score (K-Fold): {:.2f}%'.format(np.mean(valid_scores_kf * 100)))\n",
    "print('Cross-Validation Score (Stratified K-Fold): {:.2f}%'.format(np.mean(valid_scores_s_kf * 100)))"
   ]
  }
 ],
 "metadata": {
  "kernelspec": {
   "display_name": "Python 3",
   "language": "python",
   "name": "python3"
  },
  "language_info": {
   "codemirror_mode": {
    "name": "ipython",
    "version": 3
   },
   "file_extension": ".py",
   "mimetype": "text/x-python",
   "name": "python",
   "nbconvert_exporter": "python",
   "pygments_lexer": "ipython3",
   "version": "3.8.8"
  }
 },
 "nbformat": 4,
 "nbformat_minor": 5
}
