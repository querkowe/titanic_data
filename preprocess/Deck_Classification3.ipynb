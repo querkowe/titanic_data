{
 "cells": [
  {
   "cell_type": "markdown",
   "id": "76a46069",
   "metadata": {},
   "source": [
    "### PCA 예측"
   ]
  },
  {
   "cell_type": "markdown",
   "id": "ed64e19e",
   "metadata": {},
   "source": [
    "### Import"
   ]
  },
  {
   "cell_type": "code",
   "execution_count": 1,
   "id": "6cf0dd2c",
   "metadata": {},
   "outputs": [],
   "source": [
    "import warnings\n",
    "warnings.filterwarnings(\"ignore\")\n",
    "\n",
    "import pandas as pd\n",
    "import numpy as np\n",
    "import matplotlib.pyplot as plt\n",
    "\n",
    "from sklearn.preprocessing import StandardScaler, OneHotEncoder, LabelEncoder, RobustScaler\n",
    "from sklearn.compose import ColumnTransformer\n",
    "from sklearn.pipeline import Pipeline\n",
    "from sklearn.model_selection import train_test_split\n",
    "\n",
    "from imblearn.over_sampling import SMOTE\n",
    "\n",
    "from collections import Counter"
   ]
  },
  {
   "cell_type": "markdown",
   "id": "0423e7a8",
   "metadata": {},
   "source": [
    "### Load Data"
   ]
  },
  {
   "cell_type": "code",
   "execution_count": 2,
   "id": "6a22338c",
   "metadata": {},
   "outputs": [],
   "source": [
    "data_df = pd.read_csv('../titanic.csv')"
   ]
  },
  {
   "cell_type": "code",
   "execution_count": 3,
   "id": "c996def5",
   "metadata": {},
   "outputs": [],
   "source": [
    "feature_cols = ['Pclass', 'SibSp', 'Parch', 'Fare', 'Embarked']\n",
    "target_col = 'Cabin'"
   ]
  },
  {
   "cell_type": "code",
   "execution_count": 4,
   "id": "f55e2df4",
   "metadata": {},
   "outputs": [],
   "source": [
    "cabin_cap = data_df[target_col].dropna().apply(lambda x : x[0])\n",
    "\n",
    "t_deck_index = cabin_cap[cabin_cap == 'T'].index[0]\n",
    "\n",
    "del cabin_cap[t_deck_index]"
   ]
  },
  {
   "cell_type": "code",
   "execution_count": 5,
   "id": "0374f237",
   "metadata": {},
   "outputs": [],
   "source": [
    "deck_X = data_df.loc[list(data_df[target_col].dropna().index)][feature_cols]\n",
    "\n",
    "deck_X = np.array(deck_X.drop(t_deck_index))"
   ]
  },
  {
   "cell_type": "code",
   "execution_count": 6,
   "id": "1939fc02",
   "metadata": {},
   "outputs": [],
   "source": [
    "deck_label_encoder = LabelEncoder()\n",
    "\n",
    "deck_label_encoder.fit(list(Counter(cabin_cap).keys()))\n",
    "\n",
    "deck_data = deck_label_encoder.transform(cabin_cap)"
   ]
  },
  {
   "cell_type": "markdown",
   "id": "cae2b6e2",
   "metadata": {},
   "source": [
    "### Train / Test Split"
   ]
  },
  {
   "cell_type": "code",
   "execution_count": 7,
   "id": "eced15ee",
   "metadata": {},
   "outputs": [],
   "source": [
    "X_train, X_test, y_train, y_test = train_test_split(deck_X, deck_data, test_size=0.2, random_state=2, stratify=deck_data)"
   ]
  },
  {
   "cell_type": "markdown",
   "id": "86a074df",
   "metadata": {},
   "source": [
    "### Create Pipeline Object"
   ]
  },
  {
   "cell_type": "code",
   "execution_count": 8,
   "id": "cd933b2f",
   "metadata": {},
   "outputs": [],
   "source": [
    "numeric_features = ['SibSp', 'Parch', 'Fare']\n",
    "numeric_transformer = RobustScaler() # StandardScaler()\n",
    "\n",
    "categorical_features = ['Pclass', 'Embarked']\n",
    "categorical_transformer = OneHotEncoder(categories='auto', handle_unknown='ignore') \n",
    "\n",
    "preprocessor = ColumnTransformer(\n",
    "    transformers=[ # List of (name, transformer, column(s))\n",
    "        ('num', numeric_transformer, numeric_features),\n",
    "        ('cat', categorical_transformer, categorical_features)])"
   ]
  },
  {
   "cell_type": "code",
   "execution_count": 9,
   "id": "0ef62dbe",
   "metadata": {},
   "outputs": [],
   "source": [
    "preprocessor_pipe = Pipeline(steps=[('preprocessor', preprocessor)])"
   ]
  },
  {
   "cell_type": "markdown",
   "id": "faa01be6",
   "metadata": {},
   "source": [
    "### Fit & Transform"
   ]
  },
  {
   "cell_type": "code",
   "execution_count": 10,
   "id": "6dd2c6aa",
   "metadata": {},
   "outputs": [
    {
     "data": {
      "text/plain": [
       "Pipeline(steps=[('preprocessor',\n",
       "                 ColumnTransformer(transformers=[('num', RobustScaler(),\n",
       "                                                  ['SibSp', 'Parch', 'Fare']),\n",
       "                                                 ('cat',\n",
       "                                                  OneHotEncoder(handle_unknown='ignore'),\n",
       "                                                  ['Pclass', 'Embarked'])]))])"
      ]
     },
     "execution_count": 10,
     "metadata": {},
     "output_type": "execute_result"
    }
   ],
   "source": [
    "preprocessor_pipe.fit(pd.DataFrame(X_train, columns=feature_cols))"
   ]
  },
  {
   "cell_type": "code",
   "execution_count": 11,
   "id": "c6f7a59f",
   "metadata": {},
   "outputs": [],
   "source": [
    "X_train_transformed = preprocessor_pipe.transform(pd.DataFrame(X_train, columns=feature_cols))\n",
    "X_test_transformed = preprocessor_pipe.transform(pd.DataFrame(X_test, columns=feature_cols))"
   ]
  },
  {
   "cell_type": "markdown",
   "id": "28df2e68",
   "metadata": {},
   "source": [
    "### Over-sampling"
   ]
  },
  {
   "cell_type": "code",
   "execution_count": 12,
   "id": "8cbaac42",
   "metadata": {},
   "outputs": [],
   "source": [
    "smote = SMOTE(k_neighbors=1)"
   ]
  },
  {
   "cell_type": "code",
   "execution_count": 13,
   "id": "fc692f96",
   "metadata": {},
   "outputs": [],
   "source": [
    "X_train_over, y_train_over = smote.fit_sample(X_train_transformed, y_train)"
   ]
  },
  {
   "cell_type": "markdown",
   "id": "7402eac4",
   "metadata": {},
   "source": [
    "### 모델 객체 생성"
   ]
  },
  {
   "cell_type": "code",
   "execution_count": 14,
   "id": "2975e582",
   "metadata": {},
   "outputs": [],
   "source": [
    "from sklearn import decomposition"
   ]
  },
  {
   "cell_type": "code",
   "execution_count": 15,
   "id": "f3d295ec",
   "metadata": {},
   "outputs": [],
   "source": [
    "model = decomposition.PCA(n_components=8)"
   ]
  },
  {
   "cell_type": "markdown",
   "id": "d7339350",
   "metadata": {},
   "source": [
    "### 모델 객체 학습"
   ]
  },
  {
   "cell_type": "code",
   "execution_count": 16,
   "id": "3a0d0e17",
   "metadata": {},
   "outputs": [],
   "source": [
    "model.fit(X_train_over)\n",
    "x = model.transform(X_test_transformed)"
   ]
  },
  {
   "cell_type": "code",
   "execution_count": 17,
   "id": "d112e09d",
   "metadata": {},
   "outputs": [
    {
     "data": {
      "text/plain": [
       "array([[ 5.00031462e-01, -1.03882242e+00,  5.77745248e-01,\n",
       "         2.63261632e-01, -1.62404690e-02, -5.25090870e-02,\n",
       "        -3.60513613e-02, -7.02336214e-03],\n",
       "       [-4.87171497e-01, -4.65470255e-01, -5.29885942e-01,\n",
       "         2.34818343e-01, -1.83673698e-01,  9.15399115e-02,\n",
       "        -7.07236248e-04, -5.84210467e-03],\n",
       "       [ 5.42341820e-01, -1.03753832e+00,  5.69932736e-01,\n",
       "         2.72990413e-01,  1.80812788e-03, -6.08816092e-02,\n",
       "        -3.64929228e-02, -7.13312025e-03],\n",
       "       [-5.48455540e-01, -4.67330191e-01, -5.18569983e-01,\n",
       "         2.20726781e-01, -2.09816020e-01,  1.03667013e-01,\n",
       "        -6.76606371e-05, -5.68312655e-03],\n",
       "       [-5.44636653e-01, -4.67214290e-01, -5.19275132e-01,\n",
       "         2.21604890e-01, -2.08186973e-01,  1.02911318e-01,\n",
       "        -1.07515497e-04, -5.69303320e-03],\n",
       "       [ 6.26001732e-01, -2.41100479e-01, -7.72544184e-01,\n",
       "        -4.76965389e-01, -2.00632139e-02, -2.21531844e-01,\n",
       "        -3.38172303e-02, -1.31889611e-03],\n",
       "       [-1.05811809e+00, -1.09644907e-01, -1.45715462e-01,\n",
       "        -1.78006283e-01,  9.03118657e-01,  4.52469467e-01,\n",
       "        -5.37716029e-02,  1.07067504e-03],\n",
       "       [ 3.92688179e-01, -7.50606376e-01, -4.06567639e-02,\n",
       "         3.28828226e-01,  8.54072220e-02, -7.65802342e-02,\n",
       "         4.67467939e-01,  1.11460748e+00],\n",
       "       [ 8.78815060e-03,  1.06519613e+00, -6.57064168e-02,\n",
       "        -1.71179169e+00,  3.46888824e-01,  4.66274376e-01,\n",
       "        -6.41434218e-02,  1.42377698e-02],\n",
       "       [ 2.13794298e-01, -8.56923949e-01,  5.93484949e-01,\n",
       "        -7.70300445e-01, -4.49585325e-01, -8.86605994e-02,\n",
       "        -5.45567582e-02,  1.13008387e-03],\n",
       "       [ 2.06651574e-01, -2.53827518e-01, -6.95112132e-01,\n",
       "        -5.73390141e-01, -1.98948062e-01, -1.38549362e-01,\n",
       "        -2.94407871e-02, -2.31051792e-04],\n",
       "       [ 7.76322893e-01, -8.39851526e-01,  4.89615324e-01,\n",
       "        -6.40953457e-01, -2.09623945e-01, -1.99975733e-01,\n",
       "        -6.04274474e-02, -3.29182392e-04],\n",
       "       [ 1.29910132e-01, -2.56156577e-01, -6.80941999e-01,\n",
       "        -5.91035954e-01, -2.31684145e-01, -1.23363496e-01,\n",
       "        -2.86398942e-02, -3.19753383e-05],\n",
       "       [-6.36743580e-01,  1.11550793e+00,  1.90778410e-01,\n",
       "        -5.35020660e-01, -1.34269517e-01, -5.51684658e-01,\n",
       "        -5.10440083e-02,  7.60131657e-03],\n",
       "       [ 8.70457101e-01,  5.27608436e-01, -4.66444778e-01,\n",
       "        -2.64373671e-01, -3.04645399e-01,  1.40608787e-01,\n",
       "         7.37953318e-03, -8.40091005e-04],\n",
       "       [-9.30889790e-01, -4.78936853e-01, -4.47954369e-01,\n",
       "         1.32790418e-01, -3.72953416e-01,  1.79344446e-01,\n",
       "         3.92351892e-03, -4.69104650e-03],\n",
       "       [-1.92157437e-01, -1.05982996e+00,  7.05556352e-01,\n",
       "         1.04100746e-01, -3.11511864e-01,  8.44636833e-02,\n",
       "        -2.88275047e-02, -5.22774158e-03],\n",
       "       [ 1.49524114e+00,  3.55984674e-01, -5.44696389e-01,\n",
       "         8.47033371e-01,  2.73115537e-01,  1.09767455e-01,\n",
       "         2.23517702e-02, -9.87176798e-03],\n",
       "       [ 8.91753376e-02, -2.57392854e-01, -6.73420412e-01,\n",
       "        -6.00402452e-01, -2.49060643e-01, -1.15302752e-01,\n",
       "        -2.82147756e-02,  7.36955757e-05],\n",
       "       [ 2.85575238e-01, -2.51432229e-01, -7.09685207e-01,\n",
       "        -5.55242551e-01, -1.65281096e-01, -1.54167054e-01,\n",
       "        -3.02644542e-02, -4.35789188e-04],\n",
       "       [-8.58149086e-01, -4.76729214e-01, -4.61385774e-01,\n",
       "         1.49516308e-01, -3.41923954e-01,  1.64950260e-01,\n",
       "         3.16437873e-03, -4.87974456e-03],\n",
       "       [ 6.84356639e+00, -8.46299739e-01, -5.93574038e-01,\n",
       "         1.72188462e+00,  2.68976134e+00, -1.30779006e+00,\n",
       "        -1.02254080e-01, -2.34792483e-02],\n",
       "       [-1.09448844e+00, -1.10748726e-01, -1.38999760e-01,\n",
       "        -1.86369227e-01,  8.87603926e-01,  4.59666560e-01,\n",
       "        -5.33920328e-02,  1.16502407e-03],\n",
       "       [ 1.45913087e-01, -2.55670896e-01, -6.83896909e-01,\n",
       "        -5.87356259e-01, -2.24857663e-01, -1.26530217e-01,\n",
       "        -2.88069050e-02, -7.34889117e-05],\n",
       "       [ 4.50817385e-01, -2.46417224e-01, -7.40196793e-01,\n",
       "        -5.17247018e-01, -9.47927083e-02, -1.86865750e-01,\n",
       "        -3.19889626e-02, -8.64447025e-04],\n",
       "       [ 1.22198045e+00, -8.26326073e-01,  4.07325670e-01,\n",
       "        -5.38479620e-01, -1.95169816e-02, -2.88164017e-01,\n",
       "        -6.50784412e-02, -1.48527125e-03],\n",
       "       [ 2.33721479e+00,  3.81538096e-01, -7.00164906e-01,\n",
       "         1.04063554e+00,  6.32281560e-01, -5.68452468e-02,\n",
       "         1.35647225e-02, -1.20559480e-02],\n",
       "       [ 5.31075114e-01, -2.43981448e-01, -7.55016200e-01,\n",
       "        -4.98792675e-01, -6.05566618e-02, -2.02747431e-01,\n",
       "        -3.28265523e-02, -1.07264514e-03],\n",
       "       [ 3.18463339e+00, -1.96056441e-01,  4.33277147e-01,\n",
       "         1.03693702e+00,  7.40086092e-01, -1.73233226e-01,\n",
       "        -2.03205781e-02, -1.28745882e-02],\n",
       "       [-2.33406974e-01,  5.24435754e-01,  1.40621919e+00,\n",
       "        -6.40830732e-01, -2.15899850e-01, -5.80196132e-01,\n",
       "        -8.02947580e-02,  7.93467806e-03],\n",
       "       [-1.05811809e+00, -1.09644907e-01, -1.45715462e-01,\n",
       "        -1.78006283e-01,  9.03118657e-01,  4.52469467e-01,\n",
       "        -5.37716029e-02,  1.07067504e-03],\n",
       "       [ 7.11720134e-02, -2.57939245e-01, -6.70096140e-01,\n",
       "        -6.04542110e-01, -2.56740435e-01, -1.11740191e-01,\n",
       "        -2.80268885e-02,  1.20398346e-04],\n",
       "       [-1.20368073e+00,  1.46426272e-01, -1.86621302e-02,\n",
       "         1.45981770e-01,  3.23992436e-01, -7.57218335e-01,\n",
       "        -6.73826316e-02,  5.48154992e-04],\n",
       "       [-1.73426706e-01, -1.05926149e+00,  7.02097765e-01,\n",
       "         1.08407662e-01, -3.03521778e-01,  8.07571805e-02,\n",
       "        -2.90229833e-02, -5.27633133e-03],\n",
       "       [ 1.44951971e+00,  1.30647249e+00, -2.22129836e-01,\n",
       "         2.51571384e-02, -4.46492059e-01,  4.36536164e-01,\n",
       "         4.50842517e-02, -1.22929698e-03],\n",
       "       [ 1.34685400e+00, -1.01312183e+00,  4.21381393e-01,\n",
       "         4.57978748e-01,  3.44993977e-01, -2.20081306e-01,\n",
       "        -4.48890133e-02, -9.22012080e-03],\n",
       "       [-4.94445567e-01, -4.65691019e-01, -5.28542801e-01,\n",
       "         2.33145754e-01, -1.86776644e-01,  9.29793301e-02,\n",
       "        -6.31322229e-04, -5.82323486e-03],\n",
       "       [-1.96269783e-01, -4.56641553e-01, -5.83600281e-01,\n",
       "         3.01707850e-01, -5.95819147e-02,  3.39752589e-02,\n",
       "        -3.74315934e-03, -6.59673840e-03],\n",
       "       [ 1.10323141e-01, -1.05064984e+00,  6.49704002e-01,\n",
       "         1.73652680e-01, -1.82480812e-01,  2.46077642e-02,\n",
       "        -3.19842677e-02, -6.01241228e-03],\n",
       "       [ 3.87036516e-01,  3.22351294e-01, -3.40068928e-01,\n",
       "         5.92214448e-01, -1.99618316e-01,  3.29062878e-01,\n",
       "         3.39172710e-02, -6.99695302e-03],\n",
       "       [ 1.39034868e+00,  5.10777872e-01,  1.11582527e+00,\n",
       "         7.80743878e-01, -4.14174338e-01,  5.92340452e-01,\n",
       "         4.21529871e-02, -7.10704820e-03]])"
      ]
     },
     "execution_count": 17,
     "metadata": {},
     "output_type": "execute_result"
    }
   ],
   "source": [
    "x"
   ]
  },
  {
   "cell_type": "code",
   "execution_count": 18,
   "id": "5a0a0825",
   "metadata": {},
   "outputs": [
    {
     "data": {
      "text/plain": [
       "6"
      ]
     },
     "execution_count": 18,
     "metadata": {},
     "output_type": "execute_result"
    }
   ],
   "source": [
    "np.argmax(np.cumsum(model.explained_variance_ratio_) >= 0.95 ) + 1"
   ]
  },
  {
   "cell_type": "code",
   "execution_count": 19,
   "id": "a4fa72ab",
   "metadata": {},
   "outputs": [
    {
     "data": {
      "text/plain": [
       "array([20.29666357, 14.09648576,  9.52201229,  8.91605855,  7.28242389,\n",
       "        6.70140138,  2.72637471,  1.13599199])"
      ]
     },
     "execution_count": 19,
     "metadata": {},
     "output_type": "execute_result"
    }
   ],
   "source": [
    "model.singular_values_"
   ]
  },
  {
   "cell_type": "markdown",
   "id": "3f9440ad",
   "metadata": {},
   "source": [
    "## Model Stacking"
   ]
  },
  {
   "cell_type": "markdown",
   "id": "9c695483",
   "metadata": {},
   "source": [
    "### Import"
   ]
  },
  {
   "cell_type": "code",
   "execution_count": 20,
   "id": "f39c7d7a",
   "metadata": {},
   "outputs": [],
   "source": [
    "from sklearn.metrics import accuracy_score, roc_auc_score\n",
    "\n",
    "from sklearn import neighbors, cluster, svm, ensemble\n",
    "from xgboost import XGBClassifier\n",
    "\n",
    "from vecstack import StackingTransformer"
   ]
  },
  {
   "cell_type": "markdown",
   "id": "d90c282d",
   "metadata": {},
   "source": [
    "### Stacking Transformer 객체 생성"
   ]
  },
  {
   "cell_type": "code",
   "execution_count": 21,
   "id": "20cdeff2",
   "metadata": {},
   "outputs": [],
   "source": [
    "# models = [ \n",
    "#     ensemble.ExtraTreesClassifier(random_state=2, n_jobs=-1, n_estimators=100, max_depth=3, max_leaf_nodes=8)\n",
    "#     , ensemble.RandomForestClassifier(random_state=2, n_jobs=-1, n_estimators=100, max_depth=3, max_leaf_nodes=8) \n",
    "#     , XGBClassifier(seed=0, n_jobs=-1, learning_rate=0.1, n_estimators=100, max_depth = 3, max_leaf_nodes=8)\n",
    "#     , neighbors.KNeighborsClassifier(1)\n",
    "#     , cluster.KMeans(n_clusters=8)\n",
    "#     , svm.SVC(C=1000, gamma=1, kernel='rbf')\n",
    "#     , svm.LinearSVC(C=10, random_state=2)\n",
    "# ]\n",
    "estimators = [ \n",
    "    ('ExtraTrees', ensemble.ExtraTreesClassifier(random_state=2, n_jobs=-1, n_estimators=100, max_depth=4, max_leaf_nodes=8))\n",
    "    , ('RandomForest', ensemble.RandomForestClassifier(random_state=2, n_jobs=-1, n_estimators=100, max_depth=4, max_leaf_nodes=8))\n",
    "    , ('GB', ensemble.GradientBoostingClassifier(n_estimators=100, max_depth=4, min_samples_split=5, learning_rate=0.01, max_leaf_nodes=8))\n",
    "    , ('XGB', XGBClassifier(seed = 0, n_jobs = -1, learning_rate = 0.01, n_estimators = 100, max_depth = 3, eval_metric='mlogloss', max_leaf_nodes=8))\n",
    "    , ('KNN', neighbors.KNeighborsClassifier(1))\n",
    "    , ('KNN2', neighbors.KNeighborsClassifier(2))\n",
    "    , ('SVC', svm.SVC(C=1000, gamma=1, kernel='sigmoid', random_state=2))\n",
    "]"
   ]
  },
  {
   "cell_type": "code",
   "execution_count": 22,
   "id": "032062c0",
   "metadata": {},
   "outputs": [],
   "source": [
    "# S_train, S_test = stacking(models, \n",
    "#                            X_train_over, y_train_over, X_test_transformed, \n",
    "#                            regression = False, \n",
    "#                            metric = accuracy_score, \n",
    "#                            n_folds = 5, stratified = True, shuffle = True, \n",
    "#                            random_state = 2, verbose = 2)\n",
    "stack = StackingTransformer(estimators, \n",
    "                            regression = False, \n",
    "                            metric = accuracy_score, \n",
    "                            n_folds = 3, stratified = True, shuffle = True, \n",
    "                            random_state = 2, verbose = 2)\n"
   ]
  },
  {
   "cell_type": "markdown",
   "id": "cd863f57",
   "metadata": {},
   "source": [
    "### Fit"
   ]
  },
  {
   "cell_type": "code",
   "execution_count": 23,
   "id": "110dea42",
   "metadata": {
    "scrolled": true
   },
   "outputs": [
    {
     "name": "stdout",
     "output_type": "stream",
     "text": [
      "task:         [classification]\n",
      "n_classes:    [7]\n",
      "metric:       [accuracy_score]\n",
      "variant:      [A]\n",
      "n_estimators: [7]\n",
      "\n",
      "estimator  0: [ExtraTrees: ExtraTreesClassifier]\n",
      "    fold  0:  [0.62727273]\n",
      "    fold  1:  [0.57272727]\n",
      "    fold  2:  [0.54128440]\n",
      "    ----\n",
      "    MEAN:     [0.58042813] + [0.03552441]\n",
      "\n",
      "estimator  1: [RandomForest: RandomForestClassifier]\n",
      "    fold  0:  [0.61818182]\n",
      "    fold  1:  [0.57272727]\n",
      "    fold  2:  [0.56880734]\n",
      "    ----\n",
      "    MEAN:     [0.58657214] + [0.02240863]\n",
      "\n",
      "estimator  2: [GB: GradientBoostingClassifier]\n",
      "    fold  0:  [0.75454545]\n",
      "    fold  1:  [0.70909091]\n",
      "    fold  2:  [0.69724771]\n",
      "    ----\n",
      "    MEAN:     [0.72029469] + [0.02469685]\n",
      "\n",
      "estimator  3: [XGB: XGBClassifier]\n",
      "[01:53:42] WARNING: C:/Users/Administrator/workspace/xgboost-win64_release_1.5.1/src/learner.cc:576: \n",
      "Parameters: { \"max_leaf_nodes\" } might not be used.\n",
      "\n",
      "  This could be a false alarm, with some parameters getting used by language bindings but\n",
      "  then being mistakenly passed down to XGBoost core, or some parameter actually being used\n",
      "  but getting flagged wrongly here. Please open an issue if you find any such cases.\n",
      "\n",
      "\n",
      "    fold  0:  [0.67272727]\n",
      "[01:53:43] WARNING: C:/Users/Administrator/workspace/xgboost-win64_release_1.5.1/src/learner.cc:576: \n",
      "Parameters: { \"max_leaf_nodes\" } might not be used.\n",
      "\n",
      "  This could be a false alarm, with some parameters getting used by language bindings but\n",
      "  then being mistakenly passed down to XGBoost core, or some parameter actually being used\n",
      "  but getting flagged wrongly here. Please open an issue if you find any such cases.\n",
      "\n",
      "\n",
      "    fold  1:  [0.58181818]\n",
      "[01:53:43] WARNING: C:/Users/Administrator/workspace/xgboost-win64_release_1.5.1/src/learner.cc:576: \n",
      "Parameters: { \"max_leaf_nodes\" } might not be used.\n",
      "\n",
      "  This could be a false alarm, with some parameters getting used by language bindings but\n",
      "  then being mistakenly passed down to XGBoost core, or some parameter actually being used\n",
      "  but getting flagged wrongly here. Please open an issue if you find any such cases.\n",
      "\n",
      "\n",
      "    fold  2:  [0.65137615]\n",
      "    ----\n",
      "    MEAN:     [0.63530720] + [0.03881386]\n",
      "\n",
      "estimator  4: [KNN: KNeighborsClassifier]\n",
      "    fold  0:  [0.75454545]\n",
      "    fold  1:  [0.69090909]\n",
      "    fold  2:  [0.69724771]\n",
      "    ----\n",
      "    MEAN:     [0.71423408] + [0.02862166]\n",
      "\n",
      "estimator  5: [KNN2: KNeighborsClassifier]\n",
      "    fold  0:  [0.65454545]\n",
      "    fold  1:  [0.66363636]\n",
      "    fold  2:  [0.67889908]\n",
      "    ----\n",
      "    MEAN:     [0.66569363] + [0.01004819]\n",
      "\n",
      "estimator  6: [SVC: SVC]\n",
      "    fold  0:  [0.26363636]\n",
      "    fold  1:  [0.15454545]\n",
      "    fold  2:  [0.26605505]\n",
      "    ----\n",
      "    MEAN:     [0.22807895] + [0.05200541]\n",
      "\n"
     ]
    }
   ],
   "source": [
    "stack = stack.fit(X_train_over, y_train_over)\n",
    "\n",
    "# stack = stack.fit(X_train_transformed, y_train)"
   ]
  },
  {
   "cell_type": "markdown",
   "id": "272d9346",
   "metadata": {},
   "source": [
    "### Stacked Feature"
   ]
  },
  {
   "cell_type": "code",
   "execution_count": 24,
   "id": "ecf906b4",
   "metadata": {
    "scrolled": true
   },
   "outputs": [
    {
     "name": "stdout",
     "output_type": "stream",
     "text": [
      "Train set was detected.\n",
      "Transforming...\n",
      "\n",
      "estimator  0: [ExtraTrees: ExtraTreesClassifier]\n",
      "    model from fold  0: done\n",
      "    model from fold  1: done\n",
      "    model from fold  2: done\n",
      "    ----\n",
      "    DONE\n",
      "\n",
      "estimator  1: [RandomForest: RandomForestClassifier]\n",
      "    model from fold  0: done\n",
      "    model from fold  1: done\n",
      "    model from fold  2: done\n",
      "    ----\n",
      "    DONE\n",
      "\n",
      "estimator  2: [GB: GradientBoostingClassifier]\n",
      "    model from fold  0: done\n",
      "    model from fold  1: done\n",
      "    model from fold  2: done\n",
      "    ----\n",
      "    DONE\n",
      "\n",
      "estimator  3: [XGB: XGBClassifier]\n",
      "    model from fold  0: done\n",
      "    model from fold  1: done\n",
      "    model from fold  2: done\n",
      "    ----\n",
      "    DONE\n",
      "\n",
      "estimator  4: [KNN: KNeighborsClassifier]\n",
      "    model from fold  0: done\n",
      "    model from fold  1: done\n",
      "    model from fold  2: done\n",
      "    ----\n",
      "    DONE\n",
      "\n",
      "estimator  5: [KNN2: KNeighborsClassifier]\n",
      "    model from fold  0: done\n",
      "    model from fold  1: done\n",
      "    model from fold  2: done\n",
      "    ----\n",
      "    DONE\n",
      "\n",
      "estimator  6: [SVC: SVC]\n",
      "    model from fold  0: done\n",
      "    model from fold  1: done\n",
      "    model from fold  2: done\n",
      "    ----\n",
      "    DONE\n",
      "\n",
      "Transforming...\n",
      "\n",
      "estimator  0: [ExtraTrees: ExtraTreesClassifier]\n",
      "    model from fold  0: done\n",
      "    model from fold  1: done\n",
      "    model from fold  2: done\n",
      "    ----\n",
      "    DONE\n",
      "\n",
      "estimator  1: [RandomForest: RandomForestClassifier]\n",
      "    model from fold  0: done\n",
      "    model from fold  1: done\n",
      "    model from fold  2: done\n",
      "    ----\n",
      "    DONE\n",
      "\n",
      "estimator  2: [GB: GradientBoostingClassifier]\n",
      "    model from fold  0: done\n",
      "    model from fold  1: done\n",
      "    model from fold  2: done\n",
      "    ----\n",
      "    DONE\n",
      "\n",
      "estimator  3: [XGB: XGBClassifier]\n",
      "    model from fold  0: done\n",
      "    model from fold  1: done\n",
      "    model from fold  2: done\n",
      "    ----\n",
      "    DONE\n",
      "\n",
      "estimator  4: [KNN: KNeighborsClassifier]\n",
      "    model from fold  0: done\n",
      "    model from fold  1: done\n",
      "    model from fold  2: done\n",
      "    ----\n",
      "    DONE\n",
      "\n",
      "estimator  5: [KNN2: KNeighborsClassifier]\n",
      "    model from fold  0: done\n",
      "    model from fold  1: done\n",
      "    model from fold  2: done\n",
      "    ----\n",
      "    DONE\n",
      "\n",
      "estimator  6: [SVC: SVC]\n",
      "    model from fold  0: done\n",
      "    model from fold  1: done\n",
      "    model from fold  2: done\n",
      "    ----\n",
      "    DONE\n",
      "\n"
     ]
    }
   ],
   "source": [
    "S_train = stack.transform(X_train_over)\n",
    "S_test = stack.transform(X_test_transformed)"
   ]
  },
  {
   "cell_type": "markdown",
   "id": "23627428",
   "metadata": {},
   "source": [
    "### Second Level Estimator"
   ]
  },
  {
   "cell_type": "code",
   "execution_count": 25,
   "id": "f8e2f3bc",
   "metadata": {},
   "outputs": [
    {
     "name": "stdout",
     "output_type": "stream",
     "text": [
      "[01:53:44] WARNING: C:/Users/Administrator/workspace/xgboost-win64_release_1.5.1/src/learner.cc:576: \n",
      "Parameters: { \"max_leaf_nodes\" } might not be used.\n",
      "\n",
      "  This could be a false alarm, with some parameters getting used by language bindings but\n",
      "  then being mistakenly passed down to XGBoost core, or some parameter actually being used\n",
      "  but getting flagged wrongly here. Please open an issue if you find any such cases.\n",
      "\n",
      "\n"
     ]
    }
   ],
   "source": [
    "model = XGBClassifier(seed=0, n_jobs=-1, learning_rate=0.1, n_estimators=100, max_depth=4, eval_metric='mlogloss', max_leaf_nodes=8) \n",
    "model = model.fit(S_train, y_train_over) "
   ]
  },
  {
   "cell_type": "markdown",
   "id": "26bca778",
   "metadata": {},
   "source": [
    "### Prediction"
   ]
  },
  {
   "cell_type": "code",
   "execution_count": 26,
   "id": "93f8b95e",
   "metadata": {},
   "outputs": [
    {
     "name": "stdout",
     "output_type": "stream",
     "text": [
      "Final prediction score: [0.58536585]\n"
     ]
    }
   ],
   "source": [
    "y_pred = model.predict(S_test) \n",
    "print('Final prediction score: [%.8f]' % accuracy_score(y_test, y_pred))"
   ]
  },
  {
   "cell_type": "markdown",
   "id": "2aabff73",
   "metadata": {},
   "source": [
    "스태킹을 Optimize 해도 KNN을 넘기 힘들것 같다"
   ]
  },
  {
   "cell_type": "code",
   "execution_count": null,
   "id": "a45f3239",
   "metadata": {},
   "outputs": [],
   "source": []
  }
 ],
 "metadata": {
  "kernelspec": {
   "display_name": "Python 3",
   "language": "python",
   "name": "python3"
  },
  "language_info": {
   "codemirror_mode": {
    "name": "ipython",
    "version": 3
   },
   "file_extension": ".py",
   "mimetype": "text/x-python",
   "name": "python",
   "nbconvert_exporter": "python",
   "pygments_lexer": "ipython3",
   "version": "3.8.8"
  }
 },
 "nbformat": 4,
 "nbformat_minor": 5
}
