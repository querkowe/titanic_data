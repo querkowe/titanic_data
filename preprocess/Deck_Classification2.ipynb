{
 "cells": [
  {
   "cell_type": "markdown",
   "id": "f09a26fe",
   "metadata": {},
   "source": [
    "## Pipeline 전처리"
   ]
  },
  {
   "cell_type": "markdown",
   "id": "533bb577",
   "metadata": {},
   "source": [
    "### Import"
   ]
  },
  {
   "cell_type": "code",
   "execution_count": 1,
   "id": "f23f7904",
   "metadata": {},
   "outputs": [],
   "source": [
    "import warnings\n",
    "warnings.filterwarnings(\"ignore\")\n",
    "\n",
    "import pandas as pd\n",
    "import numpy as np\n",
    "import matplotlib.pyplot as plt\n",
    "\n",
    "from sklearn.preprocessing import StandardScaler, OneHotEncoder, LabelEncoder, RobustScaler\n",
    "from sklearn.compose import ColumnTransformer\n",
    "from sklearn.pipeline import Pipeline\n",
    "from sklearn.model_selection import train_test_split\n",
    "\n",
    "from collections import Counter"
   ]
  },
  {
   "cell_type": "markdown",
   "id": "b150c50f",
   "metadata": {},
   "source": [
    "### Data Load"
   ]
  },
  {
   "cell_type": "code",
   "execution_count": 2,
   "id": "7b7b1918",
   "metadata": {},
   "outputs": [],
   "source": [
    "data_df = pd.read_csv('../titanic.csv')"
   ]
  },
  {
   "cell_type": "code",
   "execution_count": 3,
   "id": "d055dc4f",
   "metadata": {},
   "outputs": [],
   "source": [
    "feature_cols = ['Pclass', 'SibSp', 'Parch', 'Fare', 'Embarked']\n",
    "target_col = 'Cabin'"
   ]
  },
  {
   "cell_type": "code",
   "execution_count": 4,
   "id": "1e728cad",
   "metadata": {},
   "outputs": [],
   "source": [
    "cabin_cap = data_df[target_col].dropna().apply(lambda x : x[0])\n",
    "\n",
    "t_deck_index = cabin_cap[cabin_cap == 'T'].index[0]\n",
    "\n",
    "del cabin_cap[t_deck_index]"
   ]
  },
  {
   "cell_type": "code",
   "execution_count": 5,
   "id": "bb2cdfe8",
   "metadata": {},
   "outputs": [],
   "source": [
    "deck_X = data_df.loc[list(data_df['Cabin'].dropna().index)][feature_cols]\n",
    "\n",
    "deck_X = np.array(deck_X.drop(t_deck_index))"
   ]
  },
  {
   "cell_type": "code",
   "execution_count": 6,
   "id": "d07c3b64",
   "metadata": {},
   "outputs": [],
   "source": [
    "deck_label_encoder = LabelEncoder()\n",
    "\n",
    "deck_label_encoder.fit(list(Counter(cabin_cap).keys()))\n",
    "\n",
    "deck_data = deck_label_encoder.transform(cabin_cap)"
   ]
  },
  {
   "cell_type": "markdown",
   "id": "3f9275b1",
   "metadata": {},
   "source": [
    "### Train / Test Split"
   ]
  },
  {
   "cell_type": "code",
   "execution_count": 7,
   "id": "9a098f92",
   "metadata": {
    "scrolled": true
   },
   "outputs": [],
   "source": [
    "X_train, X_test, y_train, y_test = train_test_split(deck_X, deck_data, test_size=0.2, random_state=2, stratify=deck_data)"
   ]
  },
  {
   "cell_type": "markdown",
   "id": "30e5d7e2",
   "metadata": {},
   "source": [
    "### Create Pipeline Object"
   ]
  },
  {
   "cell_type": "code",
   "execution_count": 8,
   "id": "b90ef8c0",
   "metadata": {},
   "outputs": [],
   "source": [
    "numeric_features = ['SibSp', 'Parch', 'Fare']\n",
    "numeric_transformer = RobustScaler() # StandardScaler()\n",
    "\n",
    "categorical_features = ['Pclass', 'Embarked']\n",
    "categorical_transformer = OneHotEncoder(categories='auto', handle_unknown='ignore') \n",
    "\n",
    "preprocessor = ColumnTransformer(\n",
    "    transformers=[ # List of (name, transformer, column(s))\n",
    "        ('num', numeric_transformer, numeric_features),\n",
    "        ('cat', categorical_transformer, categorical_features)])"
   ]
  },
  {
   "cell_type": "code",
   "execution_count": 9,
   "id": "06db1cb9",
   "metadata": {},
   "outputs": [],
   "source": [
    "preprocessor_pipe = Pipeline(steps=[('preprocessor', preprocessor)])"
   ]
  },
  {
   "cell_type": "markdown",
   "id": "590159d4",
   "metadata": {},
   "source": [
    "### Fit & Transform"
   ]
  },
  {
   "cell_type": "code",
   "execution_count": 10,
   "id": "52a8f3e7",
   "metadata": {},
   "outputs": [
    {
     "data": {
      "text/plain": [
       "Pipeline(steps=[('preprocessor',\n",
       "                 ColumnTransformer(transformers=[('num', RobustScaler(),\n",
       "                                                  ['SibSp', 'Parch', 'Fare']),\n",
       "                                                 ('cat',\n",
       "                                                  OneHotEncoder(handle_unknown='ignore'),\n",
       "                                                  ['Pclass', 'Embarked'])]))])"
      ]
     },
     "execution_count": 10,
     "metadata": {},
     "output_type": "execute_result"
    }
   ],
   "source": [
    "preprocessor_pipe.fit(pd.DataFrame(X_train, columns=feature_cols))"
   ]
  },
  {
   "cell_type": "code",
   "execution_count": 11,
   "id": "e9da1831",
   "metadata": {},
   "outputs": [],
   "source": [
    "X_train_transformed = preprocessor_pipe.transform(pd.DataFrame(X_train, columns=feature_cols))\n",
    "X_test_transformed = preprocessor_pipe.transform(pd.DataFrame(X_test, columns=feature_cols))"
   ]
  },
  {
   "cell_type": "code",
   "execution_count": 12,
   "id": "284d69d3",
   "metadata": {},
   "outputs": [
    {
     "data": {
      "text/plain": [
       "array([ 0.        ,  0.        , -0.49326395,  1.        ,  0.        ,\n",
       "        0.        ,  0.        ,  0.        ,  1.        ,  0.        ])"
      ]
     },
     "execution_count": 12,
     "metadata": {},
     "output_type": "execute_result"
    }
   ],
   "source": [
    "X_train_transformed[0]"
   ]
  },
  {
   "cell_type": "markdown",
   "id": "35d75686",
   "metadata": {},
   "source": [
    "### Grid Search"
   ]
  },
  {
   "cell_type": "code",
   "execution_count": 13,
   "id": "7c0b217d",
   "metadata": {},
   "outputs": [
    {
     "name": "stdout",
     "output_type": "stream",
     "text": [
      "Fitting 5 folds for each of 25 candidates, totalling 125 fits\n",
      "[CV] END .........................C=0.1, gamma=1, kernel=rbf; total time=   0.0s\n",
      "[CV] END .........................C=0.1, gamma=1, kernel=rbf; total time=   0.0s\n",
      "[CV] END .........................C=0.1, gamma=1, kernel=rbf; total time=   0.0s\n",
      "[CV] END .........................C=0.1, gamma=1, kernel=rbf; total time=   0.0s\n",
      "[CV] END .........................C=0.1, gamma=1, kernel=rbf; total time=   0.0s\n",
      "[CV] END .......................C=0.1, gamma=0.1, kernel=rbf; total time=   0.0s\n",
      "[CV] END .......................C=0.1, gamma=0.1, kernel=rbf; total time=   0.0s\n",
      "[CV] END .......................C=0.1, gamma=0.1, kernel=rbf; total time=   0.0s\n",
      "[CV] END .......................C=0.1, gamma=0.1, kernel=rbf; total time=   0.0s\n",
      "[CV] END .......................C=0.1, gamma=0.1, kernel=rbf; total time=   0.0s\n",
      "[CV] END ......................C=0.1, gamma=0.01, kernel=rbf; total time=   0.0s\n",
      "[CV] END ......................C=0.1, gamma=0.01, kernel=rbf; total time=   0.0s\n",
      "[CV] END ......................C=0.1, gamma=0.01, kernel=rbf; total time=   0.0s\n",
      "[CV] END ......................C=0.1, gamma=0.01, kernel=rbf; total time=   0.0s\n",
      "[CV] END ......................C=0.1, gamma=0.01, kernel=rbf; total time=   0.0s\n",
      "[CV] END .....................C=0.1, gamma=0.001, kernel=rbf; total time=   0.0s\n",
      "[CV] END .....................C=0.1, gamma=0.001, kernel=rbf; total time=   0.0s\n",
      "[CV] END .....................C=0.1, gamma=0.001, kernel=rbf; total time=   0.0s\n",
      "[CV] END .....................C=0.1, gamma=0.001, kernel=rbf; total time=   0.0s\n",
      "[CV] END .....................C=0.1, gamma=0.001, kernel=rbf; total time=   0.0s\n",
      "[CV] END ....................C=0.1, gamma=0.0001, kernel=rbf; total time=   0.0s\n",
      "[CV] END ....................C=0.1, gamma=0.0001, kernel=rbf; total time=   0.0s\n",
      "[CV] END ....................C=0.1, gamma=0.0001, kernel=rbf; total time=   0.0s\n",
      "[CV] END ....................C=0.1, gamma=0.0001, kernel=rbf; total time=   0.0s\n",
      "[CV] END ....................C=0.1, gamma=0.0001, kernel=rbf; total time=   0.0s\n",
      "[CV] END ...........................C=1, gamma=1, kernel=rbf; total time=   0.0s\n",
      "[CV] END ...........................C=1, gamma=1, kernel=rbf; total time=   0.0s\n",
      "[CV] END ...........................C=1, gamma=1, kernel=rbf; total time=   0.0s\n",
      "[CV] END ...........................C=1, gamma=1, kernel=rbf; total time=   0.0s\n",
      "[CV] END ...........................C=1, gamma=1, kernel=rbf; total time=   0.0s\n",
      "[CV] END .........................C=1, gamma=0.1, kernel=rbf; total time=   0.0s\n",
      "[CV] END .........................C=1, gamma=0.1, kernel=rbf; total time=   0.0s\n",
      "[CV] END .........................C=1, gamma=0.1, kernel=rbf; total time=   0.0s\n",
      "[CV] END .........................C=1, gamma=0.1, kernel=rbf; total time=   0.0s\n",
      "[CV] END .........................C=1, gamma=0.1, kernel=rbf; total time=   0.0s\n",
      "[CV] END ........................C=1, gamma=0.01, kernel=rbf; total time=   0.0s\n",
      "[CV] END ........................C=1, gamma=0.01, kernel=rbf; total time=   0.0s\n",
      "[CV] END ........................C=1, gamma=0.01, kernel=rbf; total time=   0.0s\n",
      "[CV] END ........................C=1, gamma=0.01, kernel=rbf; total time=   0.0s\n",
      "[CV] END ........................C=1, gamma=0.01, kernel=rbf; total time=   0.0s\n",
      "[CV] END .......................C=1, gamma=0.001, kernel=rbf; total time=   0.0s\n",
      "[CV] END .......................C=1, gamma=0.001, kernel=rbf; total time=   0.0s\n",
      "[CV] END .......................C=1, gamma=0.001, kernel=rbf; total time=   0.0s\n",
      "[CV] END .......................C=1, gamma=0.001, kernel=rbf; total time=   0.0s\n",
      "[CV] END .......................C=1, gamma=0.001, kernel=rbf; total time=   0.0s\n",
      "[CV] END ......................C=1, gamma=0.0001, kernel=rbf; total time=   0.0s\n",
      "[CV] END ......................C=1, gamma=0.0001, kernel=rbf; total time=   0.0s\n",
      "[CV] END ......................C=1, gamma=0.0001, kernel=rbf; total time=   0.0s\n",
      "[CV] END ......................C=1, gamma=0.0001, kernel=rbf; total time=   0.0s\n",
      "[CV] END ......................C=1, gamma=0.0001, kernel=rbf; total time=   0.0s\n",
      "[CV] END ..........................C=10, gamma=1, kernel=rbf; total time=   0.0s\n",
      "[CV] END ..........................C=10, gamma=1, kernel=rbf; total time=   0.0s\n",
      "[CV] END ..........................C=10, gamma=1, kernel=rbf; total time=   0.0s\n",
      "[CV] END ..........................C=10, gamma=1, kernel=rbf; total time=   0.0s\n",
      "[CV] END ..........................C=10, gamma=1, kernel=rbf; total time=   0.0s\n",
      "[CV] END ........................C=10, gamma=0.1, kernel=rbf; total time=   0.0s\n",
      "[CV] END ........................C=10, gamma=0.1, kernel=rbf; total time=   0.0s\n",
      "[CV] END ........................C=10, gamma=0.1, kernel=rbf; total time=   0.0s\n",
      "[CV] END ........................C=10, gamma=0.1, kernel=rbf; total time=   0.0s\n",
      "[CV] END ........................C=10, gamma=0.1, kernel=rbf; total time=   0.0s\n",
      "[CV] END .......................C=10, gamma=0.01, kernel=rbf; total time=   0.0s\n",
      "[CV] END .......................C=10, gamma=0.01, kernel=rbf; total time=   0.0s\n",
      "[CV] END .......................C=10, gamma=0.01, kernel=rbf; total time=   0.0s\n",
      "[CV] END .......................C=10, gamma=0.01, kernel=rbf; total time=   0.0s\n",
      "[CV] END .......................C=10, gamma=0.01, kernel=rbf; total time=   0.0s\n",
      "[CV] END ......................C=10, gamma=0.001, kernel=rbf; total time=   0.0s\n",
      "[CV] END ......................C=10, gamma=0.001, kernel=rbf; total time=   0.0s\n",
      "[CV] END ......................C=10, gamma=0.001, kernel=rbf; total time=   0.0s\n",
      "[CV] END ......................C=10, gamma=0.001, kernel=rbf; total time=   0.0s\n",
      "[CV] END ......................C=10, gamma=0.001, kernel=rbf; total time=   0.0s\n",
      "[CV] END .....................C=10, gamma=0.0001, kernel=rbf; total time=   0.0s\n",
      "[CV] END .....................C=10, gamma=0.0001, kernel=rbf; total time=   0.0s\n",
      "[CV] END .....................C=10, gamma=0.0001, kernel=rbf; total time=   0.0s\n",
      "[CV] END .....................C=10, gamma=0.0001, kernel=rbf; total time=   0.0s\n",
      "[CV] END .....................C=10, gamma=0.0001, kernel=rbf; total time=   0.0s\n",
      "[CV] END .........................C=100, gamma=1, kernel=rbf; total time=   0.0s\n",
      "[CV] END .........................C=100, gamma=1, kernel=rbf; total time=   0.0s\n",
      "[CV] END .........................C=100, gamma=1, kernel=rbf; total time=   0.0s\n",
      "[CV] END .........................C=100, gamma=1, kernel=rbf; total time=   0.0s\n",
      "[CV] END .........................C=100, gamma=1, kernel=rbf; total time=   0.0s\n",
      "[CV] END .......................C=100, gamma=0.1, kernel=rbf; total time=   0.0s\n",
      "[CV] END .......................C=100, gamma=0.1, kernel=rbf; total time=   0.0s\n",
      "[CV] END .......................C=100, gamma=0.1, kernel=rbf; total time=   0.0s\n",
      "[CV] END .......................C=100, gamma=0.1, kernel=rbf; total time=   0.0s\n",
      "[CV] END .......................C=100, gamma=0.1, kernel=rbf; total time=   0.0s\n",
      "[CV] END ......................C=100, gamma=0.01, kernel=rbf; total time=   0.0s\n",
      "[CV] END ......................C=100, gamma=0.01, kernel=rbf; total time=   0.0s\n",
      "[CV] END ......................C=100, gamma=0.01, kernel=rbf; total time=   0.0s\n",
      "[CV] END ......................C=100, gamma=0.01, kernel=rbf; total time=   0.0s\n",
      "[CV] END ......................C=100, gamma=0.01, kernel=rbf; total time=   0.0s\n",
      "[CV] END .....................C=100, gamma=0.001, kernel=rbf; total time=   0.0s\n",
      "[CV] END .....................C=100, gamma=0.001, kernel=rbf; total time=   0.0s\n",
      "[CV] END .....................C=100, gamma=0.001, kernel=rbf; total time=   0.0s\n",
      "[CV] END .....................C=100, gamma=0.001, kernel=rbf; total time=   0.0s\n",
      "[CV] END .....................C=100, gamma=0.001, kernel=rbf; total time=   0.0s\n",
      "[CV] END ....................C=100, gamma=0.0001, kernel=rbf; total time=   0.0s\n",
      "[CV] END ....................C=100, gamma=0.0001, kernel=rbf; total time=   0.0s\n",
      "[CV] END ....................C=100, gamma=0.0001, kernel=rbf; total time=   0.0s\n",
      "[CV] END ....................C=100, gamma=0.0001, kernel=rbf; total time=   0.0s\n",
      "[CV] END ....................C=100, gamma=0.0001, kernel=rbf; total time=   0.0s\n",
      "[CV] END ........................C=1000, gamma=1, kernel=rbf; total time=   0.0s\n",
      "[CV] END ........................C=1000, gamma=1, kernel=rbf; total time=   0.0s\n",
      "[CV] END ........................C=1000, gamma=1, kernel=rbf; total time=   0.0s\n",
      "[CV] END ........................C=1000, gamma=1, kernel=rbf; total time=   0.0s\n",
      "[CV] END ........................C=1000, gamma=1, kernel=rbf; total time=   0.0s\n",
      "[CV] END ......................C=1000, gamma=0.1, kernel=rbf; total time=   0.0s\n",
      "[CV] END ......................C=1000, gamma=0.1, kernel=rbf; total time=   0.0s\n",
      "[CV] END ......................C=1000, gamma=0.1, kernel=rbf; total time=   0.0s\n",
      "[CV] END ......................C=1000, gamma=0.1, kernel=rbf; total time=   0.0s\n",
      "[CV] END ......................C=1000, gamma=0.1, kernel=rbf; total time=   0.0s\n",
      "[CV] END .....................C=1000, gamma=0.01, kernel=rbf; total time=   0.0s\n",
      "[CV] END .....................C=1000, gamma=0.01, kernel=rbf; total time=   0.0s\n"
     ]
    },
    {
     "name": "stdout",
     "output_type": "stream",
     "text": [
      "[CV] END .....................C=1000, gamma=0.01, kernel=rbf; total time=   0.0s\n",
      "[CV] END .....................C=1000, gamma=0.01, kernel=rbf; total time=   0.0s\n",
      "[CV] END .....................C=1000, gamma=0.01, kernel=rbf; total time=   0.0s\n",
      "[CV] END ....................C=1000, gamma=0.001, kernel=rbf; total time=   0.0s\n",
      "[CV] END ....................C=1000, gamma=0.001, kernel=rbf; total time=   0.0s\n",
      "[CV] END ....................C=1000, gamma=0.001, kernel=rbf; total time=   0.0s\n",
      "[CV] END ....................C=1000, gamma=0.001, kernel=rbf; total time=   0.0s\n",
      "[CV] END ....................C=1000, gamma=0.001, kernel=rbf; total time=   0.0s\n",
      "[CV] END ...................C=1000, gamma=0.0001, kernel=rbf; total time=   0.0s\n",
      "[CV] END ...................C=1000, gamma=0.0001, kernel=rbf; total time=   0.0s\n",
      "[CV] END ...................C=1000, gamma=0.0001, kernel=rbf; total time=   0.0s\n",
      "[CV] END ...................C=1000, gamma=0.0001, kernel=rbf; total time=   0.0s\n",
      "[CV] END ...................C=1000, gamma=0.0001, kernel=rbf; total time=   0.0s\n",
      "The best parameters are  {'C': 1000, 'gamma': 1, 'kernel': 'rbf'}\n"
     ]
    }
   ],
   "source": [
    "from sklearn.model_selection import GridSearchCV\n",
    "from sklearn.svm import SVC\n",
    "\n",
    "# 아래 param_grid dict 의 C & gamma 에 후보 Hyper-params 값들을 리스트업합니다.\n",
    "param_grid = {'C' : [0.1, 1, 10, 100, 1000], \n",
    "             'gamma' : [1, 0.1, 0.01, 0.001, 0.0001],\n",
    "             'kernel' : ['rbf']}\n",
    "\n",
    "grid = GridSearchCV(SVC(), param_grid, refit=True, verbose=2)\n",
    "\n",
    "grid.fit(X_train_transformed, y_train)\n",
    "print('The best parameters are ', grid.best_params_)"
   ]
  },
  {
   "cell_type": "code",
   "execution_count": 14,
   "id": "8bea824b",
   "metadata": {},
   "outputs": [
    {
     "name": "stdout",
     "output_type": "stream",
     "text": [
      "              precision    recall  f1-score   support\n",
      "\n",
      "           0       1.00      0.33      0.50         3\n",
      "           1       0.58      0.78      0.67         9\n",
      "           2       0.47      0.58      0.52        12\n",
      "           3       0.67      0.29      0.40         7\n",
      "           4       0.17      0.17      0.17         6\n",
      "           5       0.33      0.33      0.33         3\n",
      "           6       1.00      1.00      1.00         1\n",
      "\n",
      "    accuracy                           0.49        41\n",
      "   macro avg       0.60      0.50      0.51        41\n",
      "weighted avg       0.52      0.49      0.48        41\n",
      "\n",
      "Accuracy on Training set: 0.765\n",
      "Accuracy on Test set: 0.488\n"
     ]
    }
   ],
   "source": [
    "from sklearn.metrics import classification_report\n",
    "\n",
    "grid_predictions = grid.predict(X_test_transformed)\n",
    "print(classification_report(y_test, grid_predictions)) # Precision, Recall, F1-score 등을 확인할 수 있습니다.\n",
    "\n",
    "print(\"Accuracy on Training set: {:.3f}\".format(grid.score(X_train_transformed, y_train)))\n",
    "print(\"Accuracy on Test set: {:.3f}\".format(grid.score(X_test_transformed, y_test)))"
   ]
  },
  {
   "cell_type": "code",
   "execution_count": 15,
   "id": "1bdbf4f7",
   "metadata": {
    "scrolled": true
   },
   "outputs": [
    {
     "name": "stdout",
     "output_type": "stream",
     "text": [
      "Fitting 5 folds for each of 5 candidates, totalling 25 fits\n",
      "[CV] END ..............................C=0.1, random_state=2; total time=   0.0s\n",
      "[CV] END ..............................C=0.1, random_state=2; total time=   0.0s\n",
      "[CV] END ..............................C=0.1, random_state=2; total time=   0.0s\n",
      "[CV] END ..............................C=0.1, random_state=2; total time=   0.0s\n",
      "[CV] END ..............................C=0.1, random_state=2; total time=   0.0s\n",
      "[CV] END ................................C=1, random_state=2; total time=   0.0s\n",
      "[CV] END ................................C=1, random_state=2; total time=   0.0s\n",
      "[CV] END ................................C=1, random_state=2; total time=   0.0s\n",
      "[CV] END ................................C=1, random_state=2; total time=   0.0s\n",
      "[CV] END ................................C=1, random_state=2; total time=   0.0s\n",
      "[CV] END ...............................C=10, random_state=2; total time=   0.0s\n",
      "[CV] END ...............................C=10, random_state=2; total time=   0.0s\n",
      "[CV] END ...............................C=10, random_state=2; total time=   0.0s\n",
      "[CV] END ...............................C=10, random_state=2; total time=   0.0s\n",
      "[CV] END ...............................C=10, random_state=2; total time=   0.0s\n",
      "[CV] END ..............................C=100, random_state=2; total time=   0.0s\n",
      "[CV] END ..............................C=100, random_state=2; total time=   0.0s\n",
      "[CV] END ..............................C=100, random_state=2; total time=   0.0s\n",
      "[CV] END ..............................C=100, random_state=2; total time=   0.0s\n",
      "[CV] END ..............................C=100, random_state=2; total time=   0.0s\n",
      "[CV] END .............................C=1000, random_state=2; total time=   0.0s\n",
      "[CV] END .............................C=1000, random_state=2; total time=   0.0s\n",
      "[CV] END .............................C=1000, random_state=2; total time=   0.0s\n",
      "[CV] END .............................C=1000, random_state=2; total time=   0.0s\n",
      "[CV] END .............................C=1000, random_state=2; total time=   0.0s\n",
      "The best parameters are  {'C': 1, 'random_state': 2}\n"
     ]
    }
   ],
   "source": [
    "from sklearn.svm import LinearSVC\n",
    "\n",
    "# 아래 param_grid dict 의 C & gamma 에 후보 Hyper-params 값들을 리스트업합니다.\n",
    "param_grid = {'C' : [0.1, 1, 10, 100, 1000],\n",
    "             'random_state' : [2]}\n",
    "\n",
    "grid = GridSearchCV(LinearSVC(), param_grid, refit=True, verbose=2)\n",
    "\n",
    "grid.fit(X_train_transformed, y_train)\n",
    "print('The best parameters are ', grid.best_params_)"
   ]
  },
  {
   "cell_type": "code",
   "execution_count": 16,
   "id": "61d2afb4",
   "metadata": {},
   "outputs": [
    {
     "data": {
      "text/plain": [
       "dict_keys(['C', 'class_weight', 'dual', 'fit_intercept', 'intercept_scaling', 'loss', 'max_iter', 'multi_class', 'penalty', 'random_state', 'tol', 'verbose'])"
      ]
     },
     "execution_count": 16,
     "metadata": {},
     "output_type": "execute_result"
    }
   ],
   "source": [
    "LinearSVC().get_params().keys()"
   ]
  },
  {
   "cell_type": "code",
   "execution_count": 17,
   "id": "e5fca52b",
   "metadata": {},
   "outputs": [
    {
     "name": "stdout",
     "output_type": "stream",
     "text": [
      "              precision    recall  f1-score   support\n",
      "\n",
      "           0       0.00      0.00      0.00         3\n",
      "           1       0.30      0.33      0.32         9\n",
      "           2       0.33      0.50      0.40        12\n",
      "           3       0.00      0.00      0.00         7\n",
      "           4       0.17      0.17      0.17         6\n",
      "           5       0.40      0.67      0.50         3\n",
      "           6       0.50      1.00      0.67         1\n",
      "\n",
      "    accuracy                           0.32        41\n",
      "   macro avg       0.24      0.38      0.29        41\n",
      "weighted avg       0.23      0.32      0.26        41\n",
      "\n",
      "Accuracy on Training set: 0.426\n",
      "Accuracy on Test set: 0.317\n"
     ]
    }
   ],
   "source": [
    "grid_predictions = grid.predict(X_test_transformed)\n",
    "print(classification_report(y_test, grid_predictions))\n",
    "\n",
    "print(\"Accuracy on Training set: {:.3f}\".format(grid.score(X_train_transformed, y_train)))\n",
    "print(\"Accuracy on Test set: {:.3f}\".format(grid.score(X_test_transformed, y_test)))"
   ]
  },
  {
   "cell_type": "markdown",
   "id": "12c6cf1e",
   "metadata": {},
   "source": [
    "### Over-sampling"
   ]
  },
  {
   "cell_type": "code",
   "execution_count": 18,
   "id": "d66cef9d",
   "metadata": {},
   "outputs": [],
   "source": [
    "from imblearn.over_sampling import SMOTE"
   ]
  },
  {
   "cell_type": "code",
   "execution_count": 19,
   "id": "81bedf67",
   "metadata": {},
   "outputs": [],
   "source": [
    "smote = SMOTE(k_neighbors=1)"
   ]
  },
  {
   "cell_type": "code",
   "execution_count": 20,
   "id": "4d07c859",
   "metadata": {},
   "outputs": [],
   "source": [
    "X_train_over, y_train_over = smote.fit_sample(X_train_transformed, y_train)"
   ]
  },
  {
   "cell_type": "code",
   "execution_count": 21,
   "id": "08515172",
   "metadata": {},
   "outputs": [
    {
     "data": {
      "text/plain": [
       "329"
      ]
     },
     "execution_count": 21,
     "metadata": {},
     "output_type": "execute_result"
    }
   ],
   "source": [
    "len(X_train_over)"
   ]
  },
  {
   "cell_type": "markdown",
   "id": "587231e1",
   "metadata": {},
   "source": [
    "### Grid Search after Over-sampling"
   ]
  },
  {
   "cell_type": "code",
   "execution_count": 22,
   "id": "8d86127c",
   "metadata": {},
   "outputs": [
    {
     "name": "stdout",
     "output_type": "stream",
     "text": [
      "Fitting 5 folds for each of 25 candidates, totalling 125 fits\n",
      "[CV] END .........................C=0.1, gamma=1, kernel=rbf; total time=   0.0s\n",
      "[CV] END .........................C=0.1, gamma=1, kernel=rbf; total time=   0.0s\n",
      "[CV] END .........................C=0.1, gamma=1, kernel=rbf; total time=   0.0s\n",
      "[CV] END .........................C=0.1, gamma=1, kernel=rbf; total time=   0.0s\n",
      "[CV] END .........................C=0.1, gamma=1, kernel=rbf; total time=   0.0s\n",
      "[CV] END .......................C=0.1, gamma=0.1, kernel=rbf; total time=   0.0s\n",
      "[CV] END .......................C=0.1, gamma=0.1, kernel=rbf; total time=   0.0s\n",
      "[CV] END .......................C=0.1, gamma=0.1, kernel=rbf; total time=   0.0s\n",
      "[CV] END .......................C=0.1, gamma=0.1, kernel=rbf; total time=   0.0s\n",
      "[CV] END .......................C=0.1, gamma=0.1, kernel=rbf; total time=   0.0s\n",
      "[CV] END ......................C=0.1, gamma=0.01, kernel=rbf; total time=   0.0s\n",
      "[CV] END ......................C=0.1, gamma=0.01, kernel=rbf; total time=   0.0s\n",
      "[CV] END ......................C=0.1, gamma=0.01, kernel=rbf; total time=   0.0s\n",
      "[CV] END ......................C=0.1, gamma=0.01, kernel=rbf; total time=   0.0s\n",
      "[CV] END ......................C=0.1, gamma=0.01, kernel=rbf; total time=   0.0s\n",
      "[CV] END .....................C=0.1, gamma=0.001, kernel=rbf; total time=   0.0s\n",
      "[CV] END .....................C=0.1, gamma=0.001, kernel=rbf; total time=   0.0s\n",
      "[CV] END .....................C=0.1, gamma=0.001, kernel=rbf; total time=   0.0s\n",
      "[CV] END .....................C=0.1, gamma=0.001, kernel=rbf; total time=   0.0s\n",
      "[CV] END .....................C=0.1, gamma=0.001, kernel=rbf; total time=   0.0s\n",
      "[CV] END ....................C=0.1, gamma=0.0001, kernel=rbf; total time=   0.0s\n",
      "[CV] END ....................C=0.1, gamma=0.0001, kernel=rbf; total time=   0.0s\n",
      "[CV] END ....................C=0.1, gamma=0.0001, kernel=rbf; total time=   0.0s\n",
      "[CV] END ....................C=0.1, gamma=0.0001, kernel=rbf; total time=   0.0s\n",
      "[CV] END ....................C=0.1, gamma=0.0001, kernel=rbf; total time=   0.0s\n",
      "[CV] END ...........................C=1, gamma=1, kernel=rbf; total time=   0.0s\n",
      "[CV] END ...........................C=1, gamma=1, kernel=rbf; total time=   0.0s\n",
      "[CV] END ...........................C=1, gamma=1, kernel=rbf; total time=   0.0s\n",
      "[CV] END ...........................C=1, gamma=1, kernel=rbf; total time=   0.0s\n",
      "[CV] END ...........................C=1, gamma=1, kernel=rbf; total time=   0.0s\n",
      "[CV] END .........................C=1, gamma=0.1, kernel=rbf; total time=   0.0s\n",
      "[CV] END .........................C=1, gamma=0.1, kernel=rbf; total time=   0.0s\n",
      "[CV] END .........................C=1, gamma=0.1, kernel=rbf; total time=   0.0s\n",
      "[CV] END .........................C=1, gamma=0.1, kernel=rbf; total time=   0.0s\n",
      "[CV] END .........................C=1, gamma=0.1, kernel=rbf; total time=   0.0s\n",
      "[CV] END ........................C=1, gamma=0.01, kernel=rbf; total time=   0.0s\n",
      "[CV] END ........................C=1, gamma=0.01, kernel=rbf; total time=   0.0s\n",
      "[CV] END ........................C=1, gamma=0.01, kernel=rbf; total time=   0.0s\n",
      "[CV] END ........................C=1, gamma=0.01, kernel=rbf; total time=   0.0s\n",
      "[CV] END ........................C=1, gamma=0.01, kernel=rbf; total time=   0.0s\n",
      "[CV] END .......................C=1, gamma=0.001, kernel=rbf; total time=   0.0s\n",
      "[CV] END .......................C=1, gamma=0.001, kernel=rbf; total time=   0.0s\n",
      "[CV] END .......................C=1, gamma=0.001, kernel=rbf; total time=   0.0s\n",
      "[CV] END .......................C=1, gamma=0.001, kernel=rbf; total time=   0.0s\n",
      "[CV] END .......................C=1, gamma=0.001, kernel=rbf; total time=   0.0s\n",
      "[CV] END ......................C=1, gamma=0.0001, kernel=rbf; total time=   0.0s\n",
      "[CV] END ......................C=1, gamma=0.0001, kernel=rbf; total time=   0.0s\n",
      "[CV] END ......................C=1, gamma=0.0001, kernel=rbf; total time=   0.0s\n",
      "[CV] END ......................C=1, gamma=0.0001, kernel=rbf; total time=   0.0s\n",
      "[CV] END ......................C=1, gamma=0.0001, kernel=rbf; total time=   0.0s\n",
      "[CV] END ..........................C=10, gamma=1, kernel=rbf; total time=   0.0s\n",
      "[CV] END ..........................C=10, gamma=1, kernel=rbf; total time=   0.0s\n",
      "[CV] END ..........................C=10, gamma=1, kernel=rbf; total time=   0.0s\n",
      "[CV] END ..........................C=10, gamma=1, kernel=rbf; total time=   0.0s\n",
      "[CV] END ..........................C=10, gamma=1, kernel=rbf; total time=   0.0s\n",
      "[CV] END ........................C=10, gamma=0.1, kernel=rbf; total time=   0.0s\n",
      "[CV] END ........................C=10, gamma=0.1, kernel=rbf; total time=   0.0s\n",
      "[CV] END ........................C=10, gamma=0.1, kernel=rbf; total time=   0.0s\n",
      "[CV] END ........................C=10, gamma=0.1, kernel=rbf; total time=   0.0s\n",
      "[CV] END ........................C=10, gamma=0.1, kernel=rbf; total time=   0.0s\n",
      "[CV] END .......................C=10, gamma=0.01, kernel=rbf; total time=   0.0s\n",
      "[CV] END .......................C=10, gamma=0.01, kernel=rbf; total time=   0.0s\n",
      "[CV] END .......................C=10, gamma=0.01, kernel=rbf; total time=   0.0s\n",
      "[CV] END .......................C=10, gamma=0.01, kernel=rbf; total time=   0.0s\n",
      "[CV] END .......................C=10, gamma=0.01, kernel=rbf; total time=   0.0s\n",
      "[CV] END ......................C=10, gamma=0.001, kernel=rbf; total time=   0.0s\n",
      "[CV] END ......................C=10, gamma=0.001, kernel=rbf; total time=   0.0s\n",
      "[CV] END ......................C=10, gamma=0.001, kernel=rbf; total time=   0.0s\n",
      "[CV] END ......................C=10, gamma=0.001, kernel=rbf; total time=   0.0s\n",
      "[CV] END ......................C=10, gamma=0.001, kernel=rbf; total time=   0.0s\n",
      "[CV] END .....................C=10, gamma=0.0001, kernel=rbf; total time=   0.0s\n",
      "[CV] END .....................C=10, gamma=0.0001, kernel=rbf; total time=   0.0s\n",
      "[CV] END .....................C=10, gamma=0.0001, kernel=rbf; total time=   0.0s\n",
      "[CV] END .....................C=10, gamma=0.0001, kernel=rbf; total time=   0.0s\n",
      "[CV] END .....................C=10, gamma=0.0001, kernel=rbf; total time=   0.0s\n",
      "[CV] END .........................C=100, gamma=1, kernel=rbf; total time=   0.0s\n",
      "[CV] END .........................C=100, gamma=1, kernel=rbf; total time=   0.0s\n",
      "[CV] END .........................C=100, gamma=1, kernel=rbf; total time=   0.0s\n",
      "[CV] END .........................C=100, gamma=1, kernel=rbf; total time=   0.0s\n",
      "[CV] END .........................C=100, gamma=1, kernel=rbf; total time=   0.0s\n",
      "[CV] END .......................C=100, gamma=0.1, kernel=rbf; total time=   0.0s\n",
      "[CV] END .......................C=100, gamma=0.1, kernel=rbf; total time=   0.0s\n",
      "[CV] END .......................C=100, gamma=0.1, kernel=rbf; total time=   0.0s\n",
      "[CV] END .......................C=100, gamma=0.1, kernel=rbf; total time=   0.0s\n",
      "[CV] END .......................C=100, gamma=0.1, kernel=rbf; total time=   0.0s\n",
      "[CV] END ......................C=100, gamma=0.01, kernel=rbf; total time=   0.0s\n",
      "[CV] END ......................C=100, gamma=0.01, kernel=rbf; total time=   0.0s\n",
      "[CV] END ......................C=100, gamma=0.01, kernel=rbf; total time=   0.0s\n",
      "[CV] END ......................C=100, gamma=0.01, kernel=rbf; total time=   0.0s\n",
      "[CV] END ......................C=100, gamma=0.01, kernel=rbf; total time=   0.0s\n",
      "[CV] END .....................C=100, gamma=0.001, kernel=rbf; total time=   0.0s\n",
      "[CV] END .....................C=100, gamma=0.001, kernel=rbf; total time=   0.0s\n",
      "[CV] END .....................C=100, gamma=0.001, kernel=rbf; total time=   0.0s\n",
      "[CV] END .....................C=100, gamma=0.001, kernel=rbf; total time=   0.0s\n",
      "[CV] END .....................C=100, gamma=0.001, kernel=rbf; total time=   0.0s\n",
      "[CV] END ....................C=100, gamma=0.0001, kernel=rbf; total time=   0.0s\n",
      "[CV] END ....................C=100, gamma=0.0001, kernel=rbf; total time=   0.0s\n",
      "[CV] END ....................C=100, gamma=0.0001, kernel=rbf; total time=   0.0s\n",
      "[CV] END ....................C=100, gamma=0.0001, kernel=rbf; total time=   0.0s\n",
      "[CV] END ....................C=100, gamma=0.0001, kernel=rbf; total time=   0.0s\n",
      "[CV] END ........................C=1000, gamma=1, kernel=rbf; total time=   0.0s\n",
      "[CV] END ........................C=1000, gamma=1, kernel=rbf; total time=   0.0s\n",
      "[CV] END ........................C=1000, gamma=1, kernel=rbf; total time=   0.0s\n",
      "[CV] END ........................C=1000, gamma=1, kernel=rbf; total time=   0.0s\n",
      "[CV] END ........................C=1000, gamma=1, kernel=rbf; total time=   0.0s\n",
      "[CV] END ......................C=1000, gamma=0.1, kernel=rbf; total time=   0.0s\n",
      "[CV] END ......................C=1000, gamma=0.1, kernel=rbf; total time=   0.0s\n",
      "[CV] END ......................C=1000, gamma=0.1, kernel=rbf; total time=   0.0s\n"
     ]
    },
    {
     "name": "stdout",
     "output_type": "stream",
     "text": [
      "[CV] END ......................C=1000, gamma=0.1, kernel=rbf; total time=   0.0s\n",
      "[CV] END ......................C=1000, gamma=0.1, kernel=rbf; total time=   0.0s\n",
      "[CV] END .....................C=1000, gamma=0.01, kernel=rbf; total time=   0.0s\n",
      "[CV] END .....................C=1000, gamma=0.01, kernel=rbf; total time=   0.0s\n",
      "[CV] END .....................C=1000, gamma=0.01, kernel=rbf; total time=   0.0s\n",
      "[CV] END .....................C=1000, gamma=0.01, kernel=rbf; total time=   0.0s\n",
      "[CV] END .....................C=1000, gamma=0.01, kernel=rbf; total time=   0.0s\n",
      "[CV] END ....................C=1000, gamma=0.001, kernel=rbf; total time=   0.0s\n",
      "[CV] END ....................C=1000, gamma=0.001, kernel=rbf; total time=   0.0s\n",
      "[CV] END ....................C=1000, gamma=0.001, kernel=rbf; total time=   0.0s\n",
      "[CV] END ....................C=1000, gamma=0.001, kernel=rbf; total time=   0.0s\n",
      "[CV] END ....................C=1000, gamma=0.001, kernel=rbf; total time=   0.0s\n",
      "[CV] END ...................C=1000, gamma=0.0001, kernel=rbf; total time=   0.0s\n",
      "[CV] END ...................C=1000, gamma=0.0001, kernel=rbf; total time=   0.0s\n",
      "[CV] END ...................C=1000, gamma=0.0001, kernel=rbf; total time=   0.0s\n",
      "[CV] END ...................C=1000, gamma=0.0001, kernel=rbf; total time=   0.0s\n",
      "[CV] END ...................C=1000, gamma=0.0001, kernel=rbf; total time=   0.0s\n",
      "The best parameters are  {'C': 1000, 'gamma': 1, 'kernel': 'rbf'}\n"
     ]
    }
   ],
   "source": [
    "param_grid = {'C' : [0.1, 1, 10, 100, 1000], \n",
    "             'gamma' : [1, 0.1, 0.01, 0.001, 0.0001],\n",
    "             'kernel' : ['rbf']}\n",
    "\n",
    "grid = GridSearchCV(SVC(), param_grid, refit=True, verbose=2)\n",
    "\n",
    "grid.fit(X_train_over, y_train_over)\n",
    "print('The best parameters are ', grid.best_params_)"
   ]
  },
  {
   "cell_type": "code",
   "execution_count": 23,
   "id": "b9712d3d",
   "metadata": {},
   "outputs": [
    {
     "name": "stdout",
     "output_type": "stream",
     "text": [
      "              precision    recall  f1-score   support\n",
      "\n",
      "           0       0.20      0.33      0.25         3\n",
      "           1       0.64      0.78      0.70         9\n",
      "           2       0.62      0.42      0.50        12\n",
      "           3       0.67      0.29      0.40         7\n",
      "           4       0.30      0.50      0.37         6\n",
      "           5       0.33      0.33      0.33         3\n",
      "           6       1.00      1.00      1.00         1\n",
      "\n",
      "    accuracy                           0.49        41\n",
      "   macro avg       0.54      0.52      0.51        41\n",
      "weighted avg       0.54      0.49      0.49        41\n",
      "\n",
      "Accuracy on Training set: 0.839\n",
      "Accuracy on Test set: 0.488\n"
     ]
    }
   ],
   "source": [
    "grid_predictions = grid.predict(X_test_transformed)\n",
    "print(classification_report(y_test, grid_predictions)) # Precision, Recall, F1-score 등을 확인할 수 있습니다.\n",
    "\n",
    "print(\"Accuracy on Training set: {:.3f}\".format(grid.score(X_train_over, y_train_over)))\n",
    "print(\"Accuracy on Test set: {:.3f}\".format(grid.score(X_test_transformed, y_test)))"
   ]
  },
  {
   "cell_type": "code",
   "execution_count": 24,
   "id": "7ba425b4",
   "metadata": {},
   "outputs": [
    {
     "name": "stdout",
     "output_type": "stream",
     "text": [
      "Fitting 5 folds for each of 5 candidates, totalling 25 fits\n",
      "[CV] END ..............................C=0.1, random_state=2; total time=   0.0s\n",
      "[CV] END ..............................C=0.1, random_state=2; total time=   0.0s\n",
      "[CV] END ..............................C=0.1, random_state=2; total time=   0.0s\n",
      "[CV] END ..............................C=0.1, random_state=2; total time=   0.0s\n",
      "[CV] END ..............................C=0.1, random_state=2; total time=   0.0s\n",
      "[CV] END ................................C=1, random_state=2; total time=   0.0s\n",
      "[CV] END ................................C=1, random_state=2; total time=   0.0s\n",
      "[CV] END ................................C=1, random_state=2; total time=   0.0s\n",
      "[CV] END ................................C=1, random_state=2; total time=   0.0s\n",
      "[CV] END ................................C=1, random_state=2; total time=   0.0s\n",
      "[CV] END ...............................C=10, random_state=2; total time=   0.0s\n",
      "[CV] END ...............................C=10, random_state=2; total time=   0.0s\n",
      "[CV] END ...............................C=10, random_state=2; total time=   0.0s\n",
      "[CV] END ...............................C=10, random_state=2; total time=   0.0s\n",
      "[CV] END ...............................C=10, random_state=2; total time=   0.0s\n",
      "[CV] END ..............................C=100, random_state=2; total time=   0.0s\n",
      "[CV] END ..............................C=100, random_state=2; total time=   0.0s\n",
      "[CV] END ..............................C=100, random_state=2; total time=   0.0s\n",
      "[CV] END ..............................C=100, random_state=2; total time=   0.0s\n",
      "[CV] END ..............................C=100, random_state=2; total time=   0.0s\n",
      "[CV] END .............................C=1000, random_state=2; total time=   0.0s\n",
      "[CV] END .............................C=1000, random_state=2; total time=   0.0s\n",
      "[CV] END .............................C=1000, random_state=2; total time=   0.0s\n",
      "[CV] END .............................C=1000, random_state=2; total time=   0.0s\n",
      "[CV] END .............................C=1000, random_state=2; total time=   0.0s\n",
      "The best parameters are  {'C': 10, 'random_state': 2}\n"
     ]
    }
   ],
   "source": [
    "param_grid = {'C' : [0.1, 1, 10, 100, 1000],\n",
    "             'random_state' : [2]}\n",
    "\n",
    "grid = GridSearchCV(LinearSVC(), param_grid, refit=True, verbose=2)\n",
    "\n",
    "grid.fit(X_train_over, y_train_over)\n",
    "print('The best parameters are ', grid.best_params_)"
   ]
  },
  {
   "cell_type": "code",
   "execution_count": 25,
   "id": "5227e4ae",
   "metadata": {},
   "outputs": [
    {
     "name": "stdout",
     "output_type": "stream",
     "text": [
      "              precision    recall  f1-score   support\n",
      "\n",
      "           0       0.17      0.67      0.27         3\n",
      "           1       0.43      0.33      0.38         9\n",
      "           2       0.42      0.42      0.42        12\n",
      "           3       0.50      0.14      0.22         7\n",
      "           4       0.00      0.00      0.00         6\n",
      "           5       0.33      0.67      0.44         3\n",
      "           6       0.50      1.00      0.67         1\n",
      "\n",
      "    accuracy                           0.34        41\n",
      "   macro avg       0.34      0.46      0.34        41\n",
      "weighted avg       0.35      0.34      0.31        41\n",
      "\n",
      "Accuracy on Training set: 0.587\n",
      "Accuracy on Test set: 0.341\n"
     ]
    }
   ],
   "source": [
    "grid_predictions = grid.predict(X_test_transformed)\n",
    "print(classification_report(y_test, grid_predictions))\n",
    "\n",
    "print(\"Accuracy on Training set: {:.3f}\".format(grid.score(X_train_over, y_train_over)))\n",
    "print(\"Accuracy on Test set: {:.3f}\".format(grid.score(X_test_transformed, y_test)))"
   ]
  },
  {
   "cell_type": "markdown",
   "id": "a48a57f8",
   "metadata": {},
   "source": [
    "## 기타 모델 테스트"
   ]
  },
  {
   "cell_type": "markdown",
   "id": "55a2a372",
   "metadata": {},
   "source": [
    "### 모델 객체 생성"
   ]
  },
  {
   "cell_type": "code",
   "execution_count": 26,
   "id": "21a0198f",
   "metadata": {},
   "outputs": [],
   "source": [
    "from sklearn import neighbors, cluster, svm"
   ]
  },
  {
   "cell_type": "code",
   "execution_count": 27,
   "id": "03d9048a",
   "metadata": {},
   "outputs": [],
   "source": [
    "knn_model = neighbors.KNeighborsClassifier(1)\n",
    "kmeans_model = cluster.KMeans(n_clusters=8)\n",
    "svm_model = svm.SVC()\n",
    "lsvm_model = svm.LinearSVC()"
   ]
  },
  {
   "cell_type": "markdown",
   "id": "30955f35",
   "metadata": {},
   "source": [
    "### 학습 & 테스트"
   ]
  },
  {
   "cell_type": "code",
   "execution_count": 28,
   "id": "69962d98",
   "metadata": {},
   "outputs": [
    {
     "name": "stdout",
     "output_type": "stream",
     "text": [
      "[3 2 1 4 2 2 3 1 5 4 1 3 4 6 4 1 2 2 2 2 1 1 4 1 3 2 1 2 1 6 3 2 5 1 1 2 0\n",
      " 0 4 3 3]\n",
      "0.6829268292682927\n",
      "\n",
      "[7 0 7 0 0 0 6 0 6 2 0 2 0 6 5 0 7 1 0 0 0 3 6 0 0 2 1 0 1 6 6 0 6 7 5 1 0\n",
      " 0 7 0 5]\n",
      "-35.51295898718044\n",
      "\n",
      "[1 4 1 4 4 2 5 1 5 2 2 2 2 5 2 4 1 2 2 2 4 1 5 2 2 2 2 2 2 5 5 2 5 1 2 2 4\n",
      " 2 1 4 1]\n",
      "0.3170731707317073\n",
      "\n",
      "[1 4 1 4 4 2 5 1 5 2 2 2 2 6 2 4 1 2 2 2 4 2 5 2 2 2 2 2 1 6 5 2 5 1 2 1 4\n",
      " 2 1 1 1]\n",
      "0.3170731707317073\n"
     ]
    }
   ],
   "source": [
    "knn_model.fit(X_train_transformed, y_train)\n",
    "kmeans_model.fit(X_train_transformed, y_train)\n",
    "svm_model.fit(X_train_transformed, y_train)\n",
    "lsvm_model.fit(X_train_transformed, y_train)\n",
    "\n",
    "print(knn_model.predict(X_test_transformed))\n",
    "print(knn_model.score(X_test_transformed, y_test))\n",
    "\n",
    "print()\n",
    "\n",
    "print(kmeans_model.predict(X_test_transformed))\n",
    "print(kmeans_model.score(X_test_transformed, y_test))\n",
    "\n",
    "print()\n",
    "\n",
    "print(svm_model.predict(X_test_transformed))\n",
    "print(svm_model.score(X_test_transformed, y_test))\n",
    "\n",
    "print()\n",
    "\n",
    "print(lsvm_model.predict(X_test_transformed))\n",
    "print(lsvm_model.score(X_test_transformed, y_test))"
   ]
  },
  {
   "cell_type": "code",
   "execution_count": 29,
   "id": "3788e894",
   "metadata": {},
   "outputs": [],
   "source": [
    "knn_model = neighbors.KNeighborsClassifier(1)\n",
    "kmeans_model = cluster.KMeans(n_clusters=8)\n",
    "svm_model = svm.SVC()\n",
    "lsvm_model = svm.LinearSVC()"
   ]
  },
  {
   "cell_type": "code",
   "execution_count": 30,
   "id": "63dd7a7c",
   "metadata": {},
   "outputs": [
    {
     "name": "stdout",
     "output_type": "stream",
     "text": [
      "[4 1 0 3 2 4 4 2 4 2 4 2 1 3 1 4 2 4 3 4 2 2 6 6 4 0 2 1 2 3 3 2 3 1 3 2 1\n",
      " 2 2 2 4 1 4 2 1 1 1 2 0 1 2 0 0 1 1 1 5 4 2 2 3 2 4 1 1 4 1 2 4 1 3 2 1 0\n",
      " 2 4 1 3 2 3 2 0 4 4 4 2 4 4 2 3 1 4 1 6 0 3 4 1 3 2 1 4 0 5 3 2 3 4 3 2 2\n",
      " 2 1 4 1 1 0 2 0 0 1 3 5 4 2 4 2 2 3 1 2 2 1 5 5 1 1 4 5 3 1 2 3 2 4 5 1 3\n",
      " 4 4 2 3 4 0 1 4 2 5 0 2 1 4 0 0 0 0 0 0 0 0 0 0 0 0 0 0 0 0 0 0 0 0 0 0 0\n",
      " 0 0 0 0 0 0 0 0 0 0 0 0 1 1 1 1 1 1 1 1 1 3 3 3 3 3 3 3 3 3 3 3 3 3 3 3 3\n",
      " 3 3 3 3 3 4 4 4 4 4 4 4 4 4 4 4 4 4 4 4 4 4 4 4 4 4 5 5 4 4 5 4 5 4 5 5 5\n",
      " 5 5 5 5 4 5 5 5 5 5 5 5 4 5 5 5 5 4 5 5 5 5 5 5 5 5 6 6 6 6 6 6 6 6 6 6 6\n",
      " 6 6 6 6 6 6 6 6 6 6 6 6 6 6 6 6 6 6 6 6 6 6 6 6 6 6 6 6 6 6 6 6 6]\n",
      "0.9331306990881459\n",
      "\n",
      "[4 6 2 7 3 2 7 4 2 6 4 1 6 4 7 0 2 4 6 4 3 1 0 0 2 4 4 6 7 4 2 2 2 3 4 4 6\n",
      " 4 4 2 5 1 6 7 4 7 6 6 6 7 6 4 6 1 2 4 0 4 2 1 7 4 4 2 4 4 4 4 5 4 4 7 7 7\n",
      " 4 4 1 6 3 7 4 4 4 7 4 2 5 4 2 4 6 4 4 0 6 7 7 6 4 1 2 4 6 5 7 1 4 4 7 2 4\n",
      " 2 2 4 6 3 6 4 4 4 7 2 5 5 7 4 3 2 2 2 4 4 6 0 0 6 7 0 5 6 6 6 2 2 5 0 4 2\n",
      " 4 4 4 6 7 4 3 7 1 5 4 1 4 5 4 6 4 6 7 6 4 4 4 6 4 4 4 6 6 4 4 4 4 4 4 6 6\n",
      " 4 4 4 4 4 6 6 4 6 4 6 4 7 4 4 2 6 4 1 4 1 7 5 4 7 4 4 6 2 2 2 6 6 2 4 4 2\n",
      " 5 4 4 4 4 4 7 4 5 4 4 6 4 4 7 4 7 4 2 6 4 7 7 6 4 4 0 0 5 5 5 5 5 5 5 0 0\n",
      " 0 5 5 5 5 0 5 0 5 0 0 0 5 5 0 5 0 5 5 0 0 5 5 0 5 0 0 0 0 0 0 0 0 0 0 0 0\n",
      " 0 0 0 0 0 0 0 0 0 0 0 0 0 0 0 0 0 0 0 0 0 0 0 0 0 0 0 0 0 0 0 0 0]\n",
      "-207.91669622427017\n",
      "\n",
      "[0 0 3 4 2 2 4 2 2 1 2 1 1 3 2 6 3 2 3 0 2 1 6 6 3 0 2 1 2 1 3 3 3 1 0 2 1\n",
      " 2 0 2 5 1 0 2 1 2 0 0 0 4 1 0 0 1 3 1 5 0 3 2 2 0 0 3 0 0 1 3 5 0 0 2 2 4\n",
      " 0 0 1 3 2 4 0 0 0 4 0 3 5 0 2 2 1 0 2 6 0 4 4 1 0 2 3 0 0 5 4 1 0 0 4 3 2\n",
      " 2 2 2 1 1 0 2 0 0 1 3 5 5 2 2 2 2 3 1 2 0 1 5 5 0 4 6 5 1 0 1 3 1 5 5 1 3\n",
      " 0 2 0 1 4 0 1 4 2 5 0 1 0 5 0 0 0 0 4 0 0 0 0 0 0 0 0 0 0 0 0 0 0 0 0 0 0\n",
      " 0 0 0 0 0 0 0 0 0 0 0 0 4 1 0 3 1 1 1 1 1 4 3 0 4 2 0 3 3 3 3 3 3 3 0 0 3\n",
      " 3 0 0 0 2 2 4 0 5 0 0 0 0 2 4 0 4 0 2 3 0 4 4 0 0 0 5 5 5 5 5 5 5 5 5 5 5\n",
      " 5 5 5 5 5 5 5 5 5 5 5 5 5 5 5 5 5 5 5 5 5 5 5 5 5 5 6 6 6 6 6 6 6 6 6 6 6\n",
      " 6 6 6 6 6 6 6 6 6 6 6 6 6 6 6 6 6 6 6 6 6 6 6 6 6 6 6 6 6 6 6 6 6]\n",
      "0.6504559270516718\n",
      "\n",
      "[0 0 3 4 2 2 4 2 2 0 2 1 1 2 2 6 2 2 3 0 2 1 6 6 3 0 2 0 2 1 2 2 3 1 0 2 0\n",
      " 2 0 2 5 1 0 2 1 2 0 0 0 4 0 0 0 1 2 1 5 0 2 1 1 0 0 2 0 0 1 2 5 0 0 2 2 1\n",
      " 0 0 1 3 1 4 0 0 0 2 0 3 5 0 2 2 0 0 2 6 0 4 4 0 0 1 2 0 0 5 1 1 0 0 4 2 2\n",
      " 2 2 2 0 2 0 2 0 0 1 3 5 5 1 2 2 2 2 1 2 0 0 5 5 0 2 6 5 0 0 1 3 1 5 5 1 3\n",
      " 0 2 0 0 2 0 2 1 2 5 0 1 0 5 0 0 0 0 1 0 0 0 0 0 0 0 0 0 0 0 0 0 0 0 4 0 0\n",
      " 0 0 0 0 0 0 0 0 0 0 0 0 2 1 0 2 0 1 1 1 1 4 3 0 4 2 0 3 2 2 2 3 3 2 0 0 3\n",
      " 3 0 0 0 2 2 4 0 5 0 0 0 0 2 4 0 2 0 2 3 0 4 4 0 0 0 5 5 5 5 5 5 5 5 5 5 5\n",
      " 5 5 5 5 5 5 5 5 5 5 5 5 5 5 5 5 5 5 5 5 5 5 5 5 5 5 6 6 6 6 6 6 6 6 6 6 6\n",
      " 6 6 6 6 6 6 6 6 6 6 6 6 6 6 6 6 6 6 6 6 6 6 6 6 6 6 6 6 6 6 6 6 6]\n",
      "0.5896656534954408\n"
     ]
    }
   ],
   "source": [
    "knn_model.fit(X_train_over, y_train_over)\n",
    "kmeans_model.fit(X_train_over, y_train_over)\n",
    "svm_model.fit(X_train_over, y_train_over)\n",
    "lsvm_model.fit(X_train_over, y_train_over)\n",
    "\n",
    "print(knn_model.predict(X_train_over))\n",
    "print(knn_model.score(X_train_over, y_train_over))\n",
    "\n",
    "print()\n",
    "\n",
    "print(kmeans_model.predict(X_train_over))\n",
    "print(kmeans_model.score(X_train_over, y_train_over))\n",
    "\n",
    "print()\n",
    "\n",
    "print(svm_model.predict(X_train_over))\n",
    "print(svm_model.score(X_train_over, y_train_over))\n",
    "\n",
    "print()\n",
    "\n",
    "print(lsvm_model.predict(X_train_over))\n",
    "print(lsvm_model.score(X_train_over, y_train_over))"
   ]
  },
  {
   "cell_type": "markdown",
   "id": "3a148fa0",
   "metadata": {},
   "source": [
    "### Cross Validation with KNN"
   ]
  },
  {
   "cell_type": "code",
   "execution_count": 31,
   "id": "5e8d4527",
   "metadata": {},
   "outputs": [],
   "source": [
    "from sklearn import model_selection"
   ]
  },
  {
   "cell_type": "code",
   "execution_count": 32,
   "id": "4f0ed9d6",
   "metadata": {},
   "outputs": [
    {
     "name": "stderr",
     "output_type": "stream",
     "text": [
      "[Parallel(n_jobs=-1)]: Using backend LokyBackend with 12 concurrent workers.\n",
      "[Parallel(n_jobs=-1)]: Done  10 out of  10 | elapsed:   14.3s finished\n",
      "[Parallel(n_jobs=-1)]: Using backend LokyBackend with 12 concurrent workers.\n",
      "[Parallel(n_jobs=-1)]: Done  10 out of  10 | elapsed:    4.6s finished\n"
     ]
    }
   ],
   "source": [
    "kf = model_selection.KFold(n_splits=10, shuffle=True, random_state=2)\n",
    "\n",
    "valid_scores_kf = model_selection.cross_val_score(neighbors.KNeighborsClassifier(1), X_train_over, y_train_over,\n",
    "                                                  cv=kf, verbose=1, n_jobs=-1)\n",
    "\n",
    "stratified_kf = model_selection.StratifiedKFold(n_splits=10, shuffle=True, random_state=2)\n",
    "\n",
    "valid_scores_s_kf = model_selection.cross_val_score(neighbors.KNeighborsClassifier(1), X_train_over, y_train_over,\n",
    "                                                    cv=stratified_kf, verbose=1, n_jobs=-1)"
   ]
  },
  {
   "cell_type": "code",
   "execution_count": 33,
   "id": "e5905283",
   "metadata": {},
   "outputs": [
    {
     "name": "stdout",
     "output_type": "stream",
     "text": [
      "Cross-Validation Score (K-Fold): 69.65%\n",
      "Cross-Validation Score (Stratified K-Fold): 70.20%\n"
     ]
    }
   ],
   "source": [
    "print('Cross-Validation Score (K-Fold): {:.2f}%'.format(np.mean(valid_scores_kf * 100)))\n",
    "print('Cross-Validation Score (Stratified K-Fold): {:.2f}%'.format(np.mean(valid_scores_s_kf * 100)))"
   ]
  },
  {
   "cell_type": "markdown",
   "id": "a8beee17",
   "metadata": {},
   "source": [
    "### CV with SVM"
   ]
  },
  {
   "cell_type": "code",
   "execution_count": 34,
   "id": "482a3ace",
   "metadata": {},
   "outputs": [
    {
     "name": "stderr",
     "output_type": "stream",
     "text": [
      "[Parallel(n_jobs=-1)]: Using backend LokyBackend with 12 concurrent workers.\n",
      "[Parallel(n_jobs=-1)]: Done  10 out of  10 | elapsed:    0.0s finished\n",
      "[Parallel(n_jobs=-1)]: Using backend LokyBackend with 12 concurrent workers.\n",
      "[Parallel(n_jobs=-1)]: Done  10 out of  10 | elapsed:    0.0s finished\n"
     ]
    }
   ],
   "source": [
    "kf = model_selection.KFold(n_splits=10, shuffle=True, random_state=2)\n",
    "\n",
    "params = {'C': 1000, 'gamma': 1, 'kernel': 'rbf'}\n",
    "\n",
    "valid_scores_kf = model_selection.cross_val_score(svm.SVC(**params), X_train_over, y_train_over,\n",
    "                                                  cv=kf, verbose=1, n_jobs=-1)\n",
    "\n",
    "stratified_kf = model_selection.StratifiedKFold(n_splits=10, shuffle=True, random_state=2)\n",
    "\n",
    "valid_scores_s_kf = model_selection.cross_val_score(svm.SVC(**params), X_train_over, y_train_over,\n",
    "                                                    cv=stratified_kf, verbose=1, n_jobs=-1)"
   ]
  },
  {
   "cell_type": "code",
   "execution_count": 35,
   "id": "cef074b7",
   "metadata": {},
   "outputs": [
    {
     "name": "stdout",
     "output_type": "stream",
     "text": [
      "Cross-Validation Score (K-Fold): 70.83%\n",
      "Cross-Validation Score (Stratified K-Fold): 71.42%\n"
     ]
    }
   ],
   "source": [
    "print('Cross-Validation Score (K-Fold): {:.2f}%'.format(np.mean(valid_scores_kf * 100)))\n",
    "print('Cross-Validation Score (Stratified K-Fold): {:.2f}%'.format(np.mean(valid_scores_s_kf * 100)))"
   ]
  },
  {
   "cell_type": "code",
   "execution_count": 36,
   "id": "f9b6dc4a",
   "metadata": {},
   "outputs": [
    {
     "name": "stderr",
     "output_type": "stream",
     "text": [
      "[Parallel(n_jobs=-1)]: Using backend LokyBackend with 12 concurrent workers.\n",
      "[Parallel(n_jobs=-1)]: Done  10 out of  10 | elapsed:    0.3s finished\n",
      "[Parallel(n_jobs=-1)]: Using backend LokyBackend with 12 concurrent workers.\n",
      "[Parallel(n_jobs=-1)]: Done  10 out of  10 | elapsed:    0.2s finished\n"
     ]
    }
   ],
   "source": [
    "kf = model_selection.KFold(n_splits=10, shuffle=True, random_state=2)\n",
    "\n",
    "params = {'C': 10, 'random_state': 2}\n",
    "\n",
    "valid_scores_kf = model_selection.cross_val_score(svm.LinearSVC(**params), X_train_over, y_train_over,\n",
    "                                                  cv=kf, verbose=1, n_jobs=-1)\n",
    "\n",
    "stratified_kf = model_selection.StratifiedKFold(n_splits=10, shuffle=True, random_state=2)\n",
    "\n",
    "valid_scores_s_kf = model_selection.cross_val_score(svm.LinearSVC(**params), X_train_over, y_train_over,\n",
    "                                                    cv=stratified_kf, verbose=1, n_jobs=-1)"
   ]
  },
  {
   "cell_type": "code",
   "execution_count": 37,
   "id": "15c192b4",
   "metadata": {},
   "outputs": [
    {
     "name": "stdout",
     "output_type": "stream",
     "text": [
      "Cross-Validation Score (K-Fold): 53.20%\n",
      "Cross-Validation Score (Stratified K-Fold): 54.40%\n"
     ]
    }
   ],
   "source": [
    "print('Cross-Validation Score (K-Fold): {:.2f}%'.format(np.mean(valid_scores_kf * 100)))\n",
    "print('Cross-Validation Score (Stratified K-Fold): {:.2f}%'.format(np.mean(valid_scores_s_kf * 100)))"
   ]
  },
  {
   "cell_type": "markdown",
   "id": "2b8fda2b",
   "metadata": {},
   "source": [
    "K-Fold 적용시 k=1 인 KNN 또는  'C': 1000, 'gamma': 1, 'kernel': 'rbf'인 SVC를 사용하는것이 가장 나은 결과를 보였지만 70% 정도에 그쳤다\n",
    "\n",
    "하지만 k=1인 단순 KNN의 경우 0.9 이상의 점수를 보였기에 채택할만 하다고 느껴진다"
   ]
  },
  {
   "cell_type": "code",
   "execution_count": null,
   "id": "23b48093",
   "metadata": {},
   "outputs": [],
   "source": []
  }
 ],
 "metadata": {
  "kernelspec": {
   "display_name": "Python 3",
   "language": "python",
   "name": "python3"
  },
  "language_info": {
   "codemirror_mode": {
    "name": "ipython",
    "version": 3
   },
   "file_extension": ".py",
   "mimetype": "text/x-python",
   "name": "python",
   "nbconvert_exporter": "python",
   "pygments_lexer": "ipython3",
   "version": "3.8.8"
  }
 },
 "nbformat": 4,
 "nbformat_minor": 5
}
